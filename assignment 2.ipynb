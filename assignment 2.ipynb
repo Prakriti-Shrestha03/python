{
 "cells": [
  {
   "cell_type": "code",
   "execution_count": 14,
   "metadata": {},
   "outputs": [
    {
     "name": "stdout",
     "output_type": "stream",
     "text": [
      "The elements is the array are [1 2 3 4 5]\n",
      "The sum of the array is 15\n",
      "The mean of the array is 3.0\n",
      "The new array is[ 2  4  6  8 10]\n"
     ]
    }
   ],
   "source": [
    "import numpy as np\n",
    "\n",
    "a=np.array([1,2,3,4,5])\n",
    "\n",
    "print(f\"The elements is the array are {a}\")\n",
    "print(f\"The sum of the array is {np.sum(a)}\")\n",
    "print(f\"The mean of the array is {np.mean(a)}\")\n",
    "new_array=np.array([x*2 for x in a])\n",
    "print(f\"The new array is{new_array}\")"
   ]
  },
  {
   "cell_type": "code",
   "execution_count": 21,
   "metadata": {},
   "outputs": [
    {
     "name": "stdout",
     "output_type": "stream",
     "text": [
      "[[1 2]\n",
      " [5 6]] X\n",
      " [[8 7]\n",
      " [4 3]] =\n",
      "[[16 13]\n",
      " [64 53]]\n"
     ]
    }
   ],
   "source": [
    "import numpy as np\n",
    "\n",
    "a=np.array([[1,2],[5,6]])\n",
    "b=np.array([[8,7],[4,3]])\n",
    "c=np.dot(a,b)\n",
    "print(f\"{a} X\\n {b} =\\n{c}\")\n",
    "\n",
    "# for i in range(2):\n",
    "#     for j in range(2):\n",
    "#         for k in range(2):\n",
    "#             c[i][j]=a[i][]*b[]\n"
   ]
  },
  {
   "cell_type": "code",
   "execution_count": 23,
   "metadata": {},
   "outputs": [
    {
     "name": "stdout",
     "output_type": "stream",
     "text": [
      "Choices \n",
      "    1. Add task\n",
      "    2. Remove Task\n",
      "    3. Postpone Task\n",
      "    4. Break\n",
      "Enter a choice(1/2/3)1\n",
      "Enter the taskrun\n",
      "Choices \n",
      "    1. Add task\n",
      "    2. Remove Task\n",
      "    3. Postpone Task\n",
      "    4. Break\n",
      "Enter a choice(1/2/3)1\n",
      "Enter the taskhomework\n",
      "Choices \n",
      "    1. Add task\n",
      "    2. Remove Task\n",
      "    3. Postpone Task\n",
      "    4. Break\n",
      "Enter a choice(1/2/3)1\n",
      "Enter the taskcoo\n",
      "Choices \n",
      "    1. Add task\n",
      "    2. Remove Task\n",
      "    3. Postpone Task\n",
      "    4. Break\n",
      "Enter a choice(1/2/3)1\n",
      "Enter the taskcook\n",
      "Choices \n",
      "    1. Add task\n",
      "    2. Remove Task\n",
      "    3. Postpone Task\n",
      "    4. Break\n",
      "Enter a choice(1/2/3)2\n",
      "Task removed\n",
      "Choices \n",
      "    1. Add task\n",
      "    2. Remove Task\n",
      "    3. Postpone Task\n",
      "    4. Break\n",
      "Enter a choice(1/2/3)3\n",
      "Task postponed\n",
      "Choices \n",
      "    1. Add task\n",
      "    2. Remove Task\n",
      "    3. Postpone Task\n",
      "    4. Break\n",
      "Enter a choice(1/2/3)4\n",
      "deque(['coo', 'cook', 'homework'])\n"
     ]
    }
   ],
   "source": [
    "from collections import deque\n",
    "\n",
    "a=deque([])\n",
    "\n",
    "while True:\n",
    "    print(\"\"\"Choices \n",
    "    1. Add task\n",
    "    2. Remove Task\n",
    "    3. Postpone Task\n",
    "    4. Break\"\"\")\n",
    "    x=int(input(\"Enter a choice(1/2/3)\"))\n",
    "    if x==1:\n",
    "        y=input(\"Enter the task\")\n",
    "        a.append(y)\n",
    "    elif x==2:\n",
    "        a.popleft()\n",
    "        print(\"Task removed\")\n",
    "    elif x==3:\n",
    "        z=a.popleft()\n",
    "        a.append(z)\n",
    "        print(\"Task postponed\")\n",
    "    elif x==4:\n",
    "        break\n",
    "    else:\n",
    "        print(\"Wrong choice\")\n",
    "print(a)"
   ]
  },
  {
   "cell_type": "code",
   "execution_count": 39,
   "metadata": {},
   "outputs": [
    {
     "name": "stdout",
     "output_type": "stream",
     "text": [
      "Word Frequency:\n",
      "the: 6\n",
      "on: 2\n",
      "ocean: 2\n"
     ]
    }
   ],
   "source": [
    "from collections import Counter\n",
    "\n",
    "a=\"\"\"The moonlight dances on the calm ocean waves, casting shadows on the shore .  \n",
    "Whispers of the wind carry secrets that only the stars can hear the ocean .\"\"\"\n",
    "\n",
    "a=a.lower().split()\n",
    "words=Counter(a)\n",
    "\n",
    "print(\"Word Frequency:\")\n",
    "for word, count in words.most_common(3):\n",
    "    print(f\"{word}: {count}\")\n"
   ]
  },
  {
   "cell_type": "code",
   "execution_count": null,
   "metadata": {},
   "outputs": [
    {
     "name": "stdout",
     "output_type": "stream",
     "text": [
      "Choices \n",
      "    1. Fruits\n",
      "    2. Vegetable\n",
      "    3. Dairy\n",
      "    4. Break\n"
     ]
    }
   ],
   "source": [
    "from collections import defaultdict\n",
    "\n",
    "x=defaultdict(list)\n",
    "\n",
    "while True:\n",
    "    print(\"\"\"Choices \n",
    "    1. Fruits\n",
    "    2. Vegetable\n",
    "    3. Dairy\n",
    "    4. Break\"\"\")\n",
    "    z=int(input(\"Enter a choice(1/2/3)\"))\n",
    "    if z==1:\n",
    "        y=input(\"Enter the fruit\")\n",
    "        x[\"Fruits\"].append(y)\n",
    "    elif z==2:\n",
    "        y=input(\"Enter the vegetable\") \n",
    "        x[\"Vegetable\"].append(y)\n",
    "    elif z==3:\n",
    "        y=input(\"Enter the dairy\")\n",
    "        x[\"Dairy\"].append(y)\n",
    "    elif z==4:\n",
    "        break\n",
    "    else:\n",
    "        print(\"Wrong choice\")\n",
    "print(x)"
   ]
  },
  {
   "cell_type": "code",
   "execution_count": null,
   "metadata": {},
   "outputs": [],
   "source": [
    "import csv\n",
    "\n",
    "file_path=\"data.csv\"\n",
    "\n"
   ]
  }
 ],
 "metadata": {
  "kernelspec": {
   "display_name": "Python 3",
   "language": "python",
   "name": "python3"
  },
  "language_info": {
   "codemirror_mode": {
    "name": "ipython",
    "version": 3
   },
   "file_extension": ".py",
   "mimetype": "text/x-python",
   "name": "python",
   "nbconvert_exporter": "python",
   "pygments_lexer": "ipython3",
   "version": "3.7.6"
  }
 },
 "nbformat": 4,
 "nbformat_minor": 4
}
