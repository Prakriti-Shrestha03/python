{
 "cells": [
  {
   "cell_type": "code",
   "execution_count": 1,
   "metadata": {},
   "outputs": [
    {
     "name": "stdout",
     "output_type": "stream",
     "text": [
      "6\n",
      "[1, 3, 'a', 'b', 'c', 'd']\n"
     ]
    }
   ],
   "source": [
    "my_list=[1,2,3,\"a\",\"b\",\"c\"]\n",
    "my_list.append(\"d\")\n",
    "my_list.remove(2)\n",
    "print(len(my_list))\n",
    "print(my_list)"
   ]
  },
  {
   "cell_type": "code",
   "execution_count": 5,
   "metadata": {},
   "outputs": [
    {
     "name": "stdout",
     "output_type": "stream",
     "text": [
      "20\n",
      "(10, 20, 30, 40, 50)\n"
     ]
    }
   ],
   "source": [
    "my_tuple=(10,20,30,40,50)\n",
    "print(my_tuple[1])\n",
    "# my_tuple(2)=35\n",
    "print(my_tuple)"
   ]
  },
  {
   "cell_type": "code",
   "execution_count": 7,
   "metadata": {},
   "outputs": [
    {
     "name": "stdout",
     "output_type": "stream",
     "text": [
      "{1, 2, 4, 5, 6}\n",
      "{1, 2, 4, 5, 6}\n"
     ]
    }
   ],
   "source": [
    "my_set={1,2,2,3,4,4,5}\n",
    "my_set.add(6)\n",
    "my_set.remove(3)\n",
    "print(my_set)\n",
    "for x in my_set:\n",
    "    if x==4:\n",
    "        print(my_set)"
   ]
  },
  {
   "cell_type": "code",
   "execution_count": 14,
   "metadata": {},
   "outputs": [
    {
     "name": "stdout",
     "output_type": "stream",
     "text": [
      "dict_keys(['Name', 'Age', 'job'])\n",
      "dict_values(['John', 26, 'Engineer'])\n",
      "{'Name': 'John', 'Age': 26, 'job': 'Engineer'}\n"
     ]
    }
   ],
   "source": [
    "my_dict ={\n",
    "    \"Name\" : \"John\",\n",
    "    \"Age\": 25,\n",
    "    \"City\": \"New York\"\n",
    "}\n",
    "my_dict.update({\"job\":\"Engineer\"})\n",
    "my_dict[\"Age\"]=26\n",
    "my_dict.pop(\"City\")\n",
    "print(my_dict.keys())\n",
    "print(my_dict.values())\n",
    "print(my_dict)"
   ]
  },
  {
   "cell_type": "code",
   "execution_count": 19,
   "metadata": {},
   "outputs": [
    {
     "name": "stdout",
     "output_type": "stream",
     "text": [
      "enter a wordaabbaa\n",
      "Palindrome\n"
     ]
    }
   ],
   "source": [
    "x=input(\"enter a word\")\n",
    "for i in range (0,int(len(x)/2)):\n",
    "    if (x[i]!=x[-(i+1)]):\n",
    "        print(\"Not palindrome\")\n",
    "        break\n",
    "else:\n",
    "    print(\"Palindrome\")"
   ]
  },
  {
   "cell_type": "code",
   "execution_count": 22,
   "metadata": {},
   "outputs": [
    {
     "name": "stdout",
     "output_type": "stream",
     "text": [
      "Enter radius of circle3\n",
      "Area=28.273500000000002\n"
     ]
    }
   ],
   "source": [
    "x=int(input(\"Enter radius of circle\"))\n",
    "pi=3.1415\n",
    "area=pi*x**2\n",
    "print(f\"Area={area}\")"
   ]
  },
  {
   "cell_type": "code",
   "execution_count": 25,
   "metadata": {},
   "outputs": [
    {
     "name": "stdout",
     "output_type": "stream",
     "text": [
      "Enter a number5\n",
      "Prime\n"
     ]
    }
   ],
   "source": [
    "x=int(input(\"Enter a number\"))\n",
    "for i in range (2,x):\n",
    "    if(x%i==0):\n",
    "        print(\"Composite\")\n",
    "        break\n",
    "else:\n",
    "    print(\"Prime\")"
   ]
  },
  {
   "cell_type": "code",
   "execution_count": 30,
   "metadata": {},
   "outputs": [
    {
     "name": "stdout",
     "output_type": "stream",
     "text": [
      "0\n",
      "1\n",
      "1\n",
      "2\n",
      "3\n",
      "5\n",
      "8\n",
      "13\n"
     ]
    }
   ],
   "source": [
    "x=20\n",
    "i=0\n",
    "j=1\n",
    "print(i)\n",
    "print(j)\n",
    "while True:\n",
    "    c=i+j\n",
    "    if(c<=x):\n",
    "        print(c)\n",
    "        i=j\n",
    "        j=c\n",
    "    else:\n",
    "        break"
   ]
  },
  {
   "cell_type": "code",
   "execution_count": 32,
   "metadata": {},
   "outputs": [
    {
     "name": "stdout",
     "output_type": "stream",
     "text": [
      "Enter the principle interest4000\n",
      "Enter the time in years2\n",
      "Enter the rate of interest in percentage40\n",
      "Simple Interest=3200.0\n"
     ]
    }
   ],
   "source": [
    "p=float(input(\"Enter the principle interest\"))\n",
    "t=float(input(\"Enter the time in years\"))\n",
    "r=float(input(\"Enter the rate of interest in percentage\"))\n",
    "s=p*t*(r/100)\n",
    "print(f\"Simple Interest={s}\")"
   ]
  },
  {
   "cell_type": "code",
   "execution_count": 34,
   "metadata": {},
   "outputs": [
    {
     "name": "stdout",
     "output_type": "stream",
     "text": [
      "Enter a number2\n",
      "2 X 1 = 2\n",
      "2 X 2 = 4\n",
      "2 X 3 = 6\n",
      "2 X 4 = 8\n",
      "2 X 5 = 10\n",
      "2 X 6 = 12\n",
      "2 X 7 = 14\n",
      "2 X 8 = 16\n",
      "2 X 9 = 18\n",
      "2 X 10 = 20\n"
     ]
    }
   ],
   "source": [
    "x=int(input(\"Enter a number\"))\n",
    "for i in  range (1,11):\n",
    "    print(f\"{x} X {i} = {x*i}\")"
   ]
  },
  {
   "cell_type": "code",
   "execution_count": 36,
   "metadata": {},
   "outputs": [
    {
     "name": "stdout",
     "output_type": "stream",
     "text": [
      "Enter a number2025\n",
      "Not Leap Year\n"
     ]
    }
   ],
   "source": [
    "x=int(input(\"Enter a number\"))\n",
    "if (x%4==0):\n",
    "    print(\"Leap year\")\n",
    "else:\n",
    "    print(\"Not Leap Year\")"
   ]
  },
  {
   "cell_type": "code",
   "execution_count": 38,
   "metadata": {},
   "outputs": [
    {
     "name": "stdout",
     "output_type": "stream",
     "text": [
      "Enter a stringHEllo, worlf\n",
      "The number of vowels=3\n"
     ]
    }
   ],
   "source": [
    "x=input(\"Enter a string\")\n",
    "vowel=[\"a\",\"e\",\"i\",\"o\",\"u\"]\n",
    "y=0\n",
    "for i in range (0,len(x)):\n",
    "    if x[i].lower() in vowel:\n",
    "        y+=1\n",
    "print(f\"The number of vowels={y}\")"
   ]
  },
  {
   "cell_type": "code",
   "execution_count": 3,
   "metadata": {},
   "outputs": [
    {
     "name": "stdout",
     "output_type": "stream",
     "text": [
      "Enter a number4\n",
      "Enter another number5\n",
      "LCM=20\n"
     ]
    }
   ],
   "source": [
    "x=int(input(\"Enter a number\"))\n",
    "y=int(input(\"Enter another number\"))\n",
    "if (x>y):\n",
    "    max=x\n",
    "else:\n",
    "    max=y\n",
    "lcm=max\n",
    "while True:\n",
    "    if (lcm % x ==0 and lcm % y ==0):\n",
    "        break\n",
    "    else:\n",
    "        lcm+=max\n",
    "        \n",
    "print(f\"LCM={lcm}\")"
   ]
  },
  {
   "cell_type": "code",
   "execution_count": 4,
   "metadata": {},
   "outputs": [
    {
     "name": "stdout",
     "output_type": "stream",
     "text": [
      "1\n",
      "2\n",
      "3\n",
      "4\n",
      "5\n",
      "6\n",
      "7\n",
      "8\n",
      "9\n",
      "10\n",
      "Sum=45\n"
     ]
    }
   ],
   "source": [
    "my_list=[1,2,3,4,5,6,7,8,9,10]\n",
    "a=0\n",
    "for i in range(0,10):\n",
    "    print(my_list[i])\n",
    "    a+=i\n",
    "print(f\"Sum={a}\")"
   ]
  },
  {
   "cell_type": "code",
   "execution_count": 5,
   "metadata": {},
   "outputs": [
    {
     "name": "stdout",
     "output_type": "stream",
     "text": [
      "1\n",
      "2\n",
      "3\n",
      "4\n",
      "5\n",
      "6\n",
      "7\n",
      "8\n",
      "9\n",
      "10\n"
     ]
    }
   ],
   "source": [
    "x=1\n",
    "while (x<=10):\n",
    "    print(x)\n",
    "    x+=1"
   ]
  },
  {
   "cell_type": "code",
   "execution_count": 7,
   "metadata": {},
   "outputs": [
    {
     "name": "stdout",
     "output_type": "stream",
     "text": [
      "H\n",
      "e\n",
      "l\n",
      "l\n",
      "o\n",
      ",\n",
      " \n",
      "W\n",
      "o\n",
      "r\n",
      "l\n",
      "d\n"
     ]
    }
   ],
   "source": [
    "x=\"Hello, World\"\n",
    "for i in x:\n",
    "    print(i)"
   ]
  },
  {
   "cell_type": "code",
   "execution_count": 10,
   "metadata": {},
   "outputs": [
    {
     "name": "stdout",
     "output_type": "stream",
     "text": [
      "1\n",
      "2\n",
      "3\n",
      "4\n",
      "5\n",
      "6\n",
      "7\n",
      "8\n",
      "9\n"
     ]
    }
   ],
   "source": [
    "x=[\n",
    "    [1,2,3],\n",
    "    [4,5,6],\n",
    "    [7,8,9]\n",
    "]\n",
    "for i in range(0,3):\n",
    "    for j in range(0,3):\n",
    "        print(x[i][j])"
   ]
  },
  {
   "cell_type": "code",
   "execution_count": 16,
   "metadata": {},
   "outputs": [
    {
     "name": "stdout",
     "output_type": "stream",
     "text": [
      "Enter first number:4\n",
      "Enter second number:5\n",
      "Enter third number:6\n",
      "the max number=6\n"
     ]
    }
   ],
   "source": [
    "def max_of_three(x,y,z):\n",
    "    if (x>y and x>z):\n",
    "        print(f\"the max number={x}\")\n",
    "    elif (x<y and y>z):\n",
    "        print(f\"the max number={y}\")\n",
    "    elif (z>y and x<z):\n",
    "        print(f\"the max number={z}\")\n",
    "    else:\n",
    "        print(\"the max numbers are equal\")\n",
    "\n",
    "max_of_three(int(input(\"Enter first number:\")),int(input(\"Enter second number:\")),int(input(\"Enter third number:\")))"
   ]
  },
  {
   "cell_type": "code",
   "execution_count": 18,
   "metadata": {},
   "outputs": [
    {
     "name": "stdout",
     "output_type": "stream",
     "text": [
      "Enter a number4\n",
      "the number is Composite\n"
     ]
    }
   ],
   "source": [
    "def is_prime(x):\n",
    "    for i in range (2,x):\n",
    "        if(x%i==0):\n",
    "            return True\n",
    "    else:\n",
    "        return False\n",
    "\n",
    "if is_prime(int(input(\"Enter a number\"))):\n",
    "    print(f\"the number is Composite\")\n",
    "else:\n",
    "    print(f\"The number is prime\")"
   ]
  },
  {
   "cell_type": "code",
   "execution_count": 3,
   "metadata": {},
   "outputs": [
    {
     "name": "stdout",
     "output_type": "stream",
     "text": [
      "Enter a number5\n",
      "0\n",
      "1\n",
      "1\n",
      "2\n",
      "3\n"
     ]
    }
   ],
   "source": [
    "def fibo(x):\n",
    "    if (x==0):\n",
    "        return 0\n",
    "    elif(x==1):\n",
    "        return 1\n",
    "    else:\n",
    "       return (fibo(x-1)+fibo(x-2))\n",
    "    \n",
    "n=int(input(\"Enter a number\"))\n",
    "for i in range(n):\n",
    "    print(fibo(i))\n",
    "    "
   ]
  },
  {
   "cell_type": "code",
   "execution_count": 5,
   "metadata": {},
   "outputs": [
    {
     "name": "stdout",
     "output_type": "stream",
     "text": [
      "Enter a sentenceHELLO,WORLD\n",
      "The number of vowels= 3\n"
     ]
    }
   ],
   "source": [
    "x=input(\"Enter a sentence\")\n",
    "y=0\n",
    "for i in x.lower():\n",
    "    if (i==\"a\" or i==\"e\" or i==\"i\" or i==\"o\" or i==\"u\"):\n",
    "        y+=1\n",
    "print(f\"The number of vowels= {y}\")\n",
    "        "
   ]
  },
  {
   "cell_type": "code",
   "execution_count": 1,
   "metadata": {},
   "outputs": [
    {
     "name": "stdout",
     "output_type": "stream",
     "text": [
      "Some sound\n",
      "Barks\n"
     ]
    }
   ],
   "source": [
    "from abc import ABC, abstractmethod\n",
    "class Animal(ABC):\n",
    "\n",
    "    def __init__(self,name,species,health=100):\n",
    "        self._name=name\n",
    "        self._species=species\n",
    "        self._health=health\n",
    "\n",
    "    def make_sound(self):\n",
    "        print(\"Some sound\")\n",
    "\n",
    "class Dog(Animal):\n",
    "\n",
    "    def __init__(self,name,species,breed,health):\n",
    "        super().__init__(name,species,health)\n",
    "        self.breed=breed\n",
    "\n",
    "    def make_sound(self):\n",
    "        print(\"Barks\")\n",
    "\n",
    "cat=Animal(\"ron\",\"shorthair\",100)\n",
    "cat.make_sound()\n",
    "doggie=Dog(\"juzie\",\"dog\",\"labrador\",100)\n",
    "doggie.make_sound()\n",
    "\n"
   ]
  },
  {
   "cell_type": "code",
   "execution_count": 7,
   "metadata": {},
   "outputs": [
    {
     "name": "stdout",
     "output_type": "stream",
     "text": [
      "1\n",
      "2\n",
      "3\n",
      "4\n",
      "5\n"
     ]
    }
   ],
   "source": [
    "class MyIterator:\n",
    "    \n",
    "    def __init__(self,number):\n",
    "        self.number=number\n",
    "        self.index=0\n",
    "        \n",
    "    def __iter__(self):\n",
    "        return self\n",
    "    \n",
    "    def __next__(self):\n",
    "        if self.index>=len(self.number):\n",
    "            raise StopIteration\n",
    "        y= self.number[self.index]\n",
    "        self.index+=1\n",
    "        return y\n",
    "    \n",
    "    \n",
    "my_list=[1,2,3,4,5]\n",
    "my_iter=MyIterator(my_list)\n",
    "\n",
    "for x in my_iter:\n",
    "    print(x)"
   ]
  },
  {
   "cell_type": "code",
   "execution_count": 8,
   "metadata": {},
   "outputs": [
    {
     "name": "stdout",
     "output_type": "stream",
     "text": [
      "Meows\n",
      "Barks\n"
     ]
    }
   ],
   "source": [
    "from abc import ABC, abstractmethod\n",
    "class Animal(ABC):\n",
    "\n",
    "    def __init__(self,name,species,health=100):\n",
    "        self._name=name\n",
    "        self._species=species\n",
    "        self._health=health\n",
    "\n",
    "    def make_sound(self):\n",
    "        print(\"Some sound\")\n",
    "\n",
    "class Dog(Animal):\n",
    "\n",
    "    def __init__(self,name,species,breed,health):\n",
    "        super().__init__(name,species,health)\n",
    "        self.breed=breed\n",
    "\n",
    "    def make_sound(self):\n",
    "        print(\"Barks\")\n",
    "\n",
    "class Cat(Animal):\n",
    "\n",
    "    def __init__(self,name,species,breed,health):\n",
    "        super().__init__(name,species,health)\n",
    "        self.breed=breed\n",
    "\n",
    "    def make_sound(self):\n",
    "        print(\"Meows\")\n",
    "\n",
    "cat=Cat(\"ron\",\"cat\",\"shorthair\",100)\n",
    "cat.make_sound()\n",
    "doggie=Dog(\"juzie\",\"dog\",\"labrador\",100)\n",
    "doggie.make_sound()"
   ]
  },
  {
   "cell_type": "code",
   "execution_count": 16,
   "metadata": {},
   "outputs": [
    {
     "ename": "TypeError",
     "evalue": "__init__() takes 1 positional argument but 2 were given",
     "output_type": "error",
     "traceback": [
      "\u001b[1;31m---------------------------------------------------------------------------\u001b[0m",
      "\u001b[1;31mTypeError\u001b[0m                                 Traceback (most recent call last)",
      "\u001b[1;32m<ipython-input-16-ba91c9c27a3b>\u001b[0m in \u001b[0;36m<module>\u001b[1;34m\u001b[0m\n\u001b[0;32m     24\u001b[0m \u001b[1;33m\u001b[0m\u001b[0m\n\u001b[0;32m     25\u001b[0m \u001b[0msq\u001b[0m\u001b[1;33m=\u001b[0m\u001b[0mSquare\u001b[0m\u001b[1;33m(\u001b[0m\u001b[1;36m4\u001b[0m\u001b[1;33m)\u001b[0m\u001b[1;33m\u001b[0m\u001b[1;33m\u001b[0m\u001b[0m\n\u001b[1;32m---> 26\u001b[1;33m \u001b[0msq\u001b[0m\u001b[1;33m.\u001b[0m\u001b[0marea\u001b[0m\u001b[1;33m(\u001b[0m\u001b[1;33m)\u001b[0m\u001b[1;33m\u001b[0m\u001b[1;33m\u001b[0m\u001b[0m\n\u001b[0m",
      "\u001b[1;32m<ipython-input-16-ba91c9c27a3b>\u001b[0m in \u001b[0;36marea\u001b[1;34m(self)\u001b[0m\n\u001b[0;32m     19\u001b[0m         \u001b[0mself\u001b[0m\u001b[1;33m.\u001b[0m\u001b[0mlength\u001b[0m\u001b[1;33m=\u001b[0m\u001b[0mlength\u001b[0m\u001b[1;33m\u001b[0m\u001b[1;33m\u001b[0m\u001b[0m\n\u001b[0;32m     20\u001b[0m     \u001b[1;32mdef\u001b[0m \u001b[0marea\u001b[0m\u001b[1;33m(\u001b[0m\u001b[0mself\u001b[0m\u001b[1;33m)\u001b[0m\u001b[1;33m:\u001b[0m\u001b[1;33m\u001b[0m\u001b[1;33m\u001b[0m\u001b[0m\n\u001b[1;32m---> 21\u001b[1;33m         \u001b[0msuper\u001b[0m\u001b[1;33m(\u001b[0m\u001b[1;33m)\u001b[0m\u001b[1;33m.\u001b[0m\u001b[0m__init__\u001b[0m\u001b[1;33m(\u001b[0m\u001b[0mself\u001b[0m\u001b[1;33m)\u001b[0m\u001b[1;33m\u001b[0m\u001b[1;33m\u001b[0m\u001b[0m\n\u001b[0m\u001b[0;32m     22\u001b[0m         \u001b[0ma\u001b[0m\u001b[1;33m=\u001b[0m\u001b[0mself\u001b[0m\u001b[1;33m.\u001b[0m\u001b[0mlength\u001b[0m\u001b[1;33m**\u001b[0m\u001b[1;36m2\u001b[0m\u001b[1;33m\u001b[0m\u001b[1;33m\u001b[0m\u001b[0m\n\u001b[0;32m     23\u001b[0m         \u001b[0mprint\u001b[0m\u001b[1;33m(\u001b[0m\u001b[0ma\u001b[0m\u001b[1;33m)\u001b[0m\u001b[1;33m\u001b[0m\u001b[1;33m\u001b[0m\u001b[0m\n",
      "\u001b[1;31mTypeError\u001b[0m: __init__() takes 1 positional argument but 2 were given"
     ]
    }
   ],
   "source": [
    "from abc import ABC,abstractmethod\n",
    "class Shape(ABC):\n",
    "    def __init__(self):\n",
    "        pass\n",
    "    #@abstractmethod\n",
    "    def area(self):\n",
    "        print(\"The area is \")\n",
    "        \n",
    "class Circle(Shape):\n",
    "    def __init__(self,radius):\n",
    "        self.radius=radius\n",
    "    def area(self):\n",
    "        super().__init__(self)\n",
    "        a=3.1415*self.radius**2\n",
    "        print(a)\n",
    "        \n",
    "class Square(Shape):\n",
    "    def __init__(self,length):\n",
    "        self.length=length\n",
    "    def area(self):\n",
    "        super().__init__(self)\n",
    "        a=self.length**2\n",
    "        print(a)\n",
    "        \n",
    "sq=Square(4)\n",
    "sq.area()"
   ]
  }
 ],
 "metadata": {
  "kernelspec": {
   "display_name": "Python 3",
   "language": "python",
   "name": "python3"
  },
  "language_info": {
   "codemirror_mode": {
    "name": "ipython",
    "version": 3
   },
   "file_extension": ".py",
   "mimetype": "text/x-python",
   "name": "python",
   "nbconvert_exporter": "python",
   "pygments_lexer": "ipython3",
   "version": "3.7.6"
  }
 },
 "nbformat": 4,
 "nbformat_minor": 4
}
