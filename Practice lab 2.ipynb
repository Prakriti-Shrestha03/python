{
 "cells": [
  {
   "cell_type": "code",
   "execution_count": 4,
   "metadata": {},
   "outputs": [
    {
     "name": "stdout",
     "output_type": "stream",
     "text": [
      "My name is Prakriti and my age is 20\n"
     ]
    }
   ],
   "source": [
    "class MyClass:\n",
    "    def __init__(self,name,age):\n",
    "        self.name=name\n",
    "        self.age=age\n",
    "    def __str__(self):\n",
    "        return f\"{self.}\"\n",
    "p1=MyClass(\"Prakriti\",20)\n",
    "print(f\"My name is {p1.name} and my age is {p1.age}\")"
   ]
  },
  {
   "cell_type": "code",
   "execution_count": 6,
   "metadata": {},
   "outputs": [
    {
     "name": "stdout",
     "output_type": "stream",
     "text": [
      "The students name is Ram Shrestha who is studying Math\n"
     ]
    }
   ],
   "source": [
    "class Person:\n",
    "    def __init__(self,fname,lname):\n",
    "        self.fname=fname\n",
    "        self.lname=lname\n",
    "class Student(Person):\n",
    "    def __init__(self,fname,lname,subject):\n",
    "        super().__init__(fname,lname)\n",
    "        self.subject=subject\n",
    "    def print_name(self):\n",
    "        print(f\"The students name is {self.fname} {self.lname} who is studying {self.subject}\")\n",
    "        \n",
    "y=Student(\"Ram\",\"Shrestha\",\"Math\")\n",
    "y.print_name()"
   ]
  },
  {
   "cell_type": "code",
   "execution_count": 7,
   "metadata": {},
   "outputs": [
    {
     "name": "stdout",
     "output_type": "stream",
     "text": [
      "<list_iterator object at 0x000001C339293488>\n",
      "apple\n",
      "banana\n",
      "mango\n"
     ]
    }
   ],
   "source": [
    "x=[\"apple\",\"banana\",\"mango\"]\n",
    "myiter=iter(x)\n",
    "print(myiter)\n",
    "print(next(myiter))\n",
    "print(next(myiter))\n",
    "print(next(myiter))"
   ]
  },
  {
   "cell_type": "code",
   "execution_count": 10,
   "metadata": {},
   "outputs": [
    {
     "name": "stdout",
     "output_type": "stream",
     "text": [
      "2\n",
      "4\n",
      "6\n",
      "8\n",
      "10\n"
     ]
    }
   ],
   "source": [
    "class MyNumber:\n",
    "    def __iter__(self):\n",
    "        self.a=2\n",
    "        return self\n",
    "    def __next__(self):\n",
    "        if self.a<=10:\n",
    "            x=self.a\n",
    "            self.a+=2\n",
    "            return x\n",
    "        else:\n",
    "            raise StopIteration \n",
    "\n",
    "my_iter=iter(MyNumber())\n",
    "for i in my_iter:\n",
    "    print(i)"
   ]
  },
  {
   "cell_type": "code",
   "execution_count": 11,
   "metadata": {},
   "outputs": [
    {
     "name": "stdout",
     "output_type": "stream",
     "text": [
      "the title of the employee is HOD and the subject they teach is Simulation\n"
     ]
    }
   ],
   "source": [
    "class Dept:\n",
    "    def __init__(self,title):\n",
    "        self.title = title\n",
    "class Subject(Dept):\n",
    "    def __init__(self,title,subject):\n",
    "        super().__init__(title)\n",
    "        self.subject=subject\n",
    "    def print_(self):\n",
    "        print(f\"the title of the employee is {self.title} and the subject they teach is {self.subject}\")\n",
    "y=Subject(\"HOD\",\"Simulation\")\n",
    "y.print_()"
   ]
  },
  {
   "cell_type": "code",
   "execution_count": 14,
   "metadata": {},
   "outputs": [
    {
     "name": "stdout",
     "output_type": "stream",
     "text": [
      "Error\n",
      "All Done\n"
     ]
    }
   ],
   "source": [
    "try:\n",
    "    print(h)\n",
    "except:\n",
    "    print(\"Error\")\n",
    "finally:\n",
    "    print(\"All Done\")"
   ]
  },
  {
   "cell_type": "code",
   "execution_count": null,
   "metadata": {},
   "outputs": [],
   "source": [
    "import os\n",
    "\n",
    "PET_FILE=\"petfile.txt\"\n",
    "\n",
    "def save_to_file(PET_FILE,Happiness,Hunger):\n",
    "     \"\"\"Save Data to File\"\"\" \n",
    "     with open(PET_FILE,'a') as file:\n",
    "          file.write(Happiness+\"\\n\"+Hunger+\"\\n\")\n",
    "\n",
    "\n",
    "def feed_pet(Happiness,Hunger):\n",
    "    \"\"\"To feed the pet to increase hunger\"\"\"\n",
    "    food_list={\n",
    "        \"Burger\":[10,0],\n",
    "        \"Pizza\":[10,0],\n",
    "        \"Ice Cream\":[5,5],\n",
    "        \"Medicine\":[20,-5]\n",
    "    }\n",
    "    print(\"You can feed your pet the following foods:\")\n",
    "    print(\"1.Burger (+10 hunger +0 happiness)\")\n",
    "    print(\"2.Pizza (+10 hunger +0 happiness)\")\n",
    "    print(\"3.Ice Cream (+5 hunger +5 happiness)\")\n",
    "    print(\"4.Medicine (+20 hunger -5 happiness)\")\n",
    "    choice=input(\"Enter your choice (1/2/3/4):\")\n",
    "\n",
    "    if choice==\"1\":\n",
    "            Happiness+=0\n",
    "            Hunger+=10\n",
    "            print(f\"Hunger={Hunger} and Happiness={Happiness}\")\n",
    "    elif choice==\"2\":\n",
    "            Happiness+=0\n",
    "            Hunger+=10\n",
    "            print(f\"Hunger={Hunger} and Happiness={Happiness}\")\n",
    "    elif choice==\"3\":\n",
    "            Happiness+=5\n",
    "            Hunger+=5\n",
    "            print(f\"Hunger={Hunger} and Happiness={Happiness}\")\n",
    "    elif choice==\"4\":\n",
    "            Happiness+=-5\n",
    "            Hunger+=20\n",
    "            print(f\"Hunger={Hunger} and Happiness={Happiness}\")\n",
    "    else:\n",
    "            print(\"No such choice exists\")\n",
    "\n",
    "    save_to_file(PET_FILE,Happiness,Hunger)\n",
    "    return Hunger\n",
    "\n",
    "def play_time():\n",
    "    pass \n",
    "\n",
    "def nap_time():\n",
    "    pass\n",
    "\n",
    "def update_pet_stat(pet_name,Hunger,Happiness,Energy):\n",
    "    pass\n",
    "\n",
    "def gameplay():\n",
    "    \"\"\"The main game play \"\"\"\n",
    "    print(\"Let's meet your pet\")\n",
    "    pet_name=input(\"Enter your pet's name:\").strip()\n",
    "\n",
    "    if os.path.exists(PET_FILE):\n",
    "        print(\"Welcome back...\")\n",
    "    else:\n",
    "        print(\"Congrats on adopting a new pet..\")\n",
    "        open(PET_FILE,'w').close()\n",
    "\n",
    "    Hunger= 50\n",
    "    Happiness=50\n",
    "    Energy=50\n",
    "\n",
    "    while True:\n",
    "        print(\"What would you like to do with your pet:\")\n",
    "        print(\"1.Feed your pet\")\n",
    "        print(\"2.Play with your pet\")\n",
    "        print(\"3.It's Nap Time\")\n",
    "        print(\"4.Save and Exit\")\n",
    "        choice=input(\"Enter your choice (1/2/3/4):\").strip()\n",
    "\n",
    "        if choice==\"1\":\n",
    "            feed_pet(Hunger,Happiness)\n",
    "        elif choice ==\"2\":\n",
    "            play_time(Happiness,Energy)\n",
    "        elif choice==\"3\":\n",
    "            nap_time(Energy,Hunger)\n",
    "        elif choice==\"4\":\n",
    "            print(\"Thank you for playing\")\n",
    "            update_pet_stat(pet_name,Hunger,Happiness,Energy)\n",
    "            break\n",
    "        else:\n",
    "            print(\"No such choice exists\")\n",
    "\n",
    "\n",
    "def pet_stat():\n",
    "    pass\n",
    "\n",
    "def main():\n",
    "    print(\"Welcome, Come inside to meet your virtual pet\")\n",
    "    while True:\n",
    "        print(\"==Game Menu==\")\n",
    "        print(\"1.Adopt/Return to your pet\")\n",
    "        print(\"2.Check your pet's stats\")\n",
    "        print(\"3.Exit\")\n",
    "        choice=input(\"Enter your choice (1/2/3):\").strip()\n",
    "\n",
    "        if choice ==\"1\":\n",
    "            gameplay()\n",
    "        elif choice==\"2\":\n",
    "            pet_stat()\n",
    "        elif choice ==\"3\":\n",
    "            print(\"Thank you for playing\")\n",
    "            break\n",
    "        else:\n",
    "            print(\"No such choice exists\")\n",
    "\n",
    "if __name__==\"__main__\":\n",
    "    main()\n"
   ]
  },
  {
   "cell_type": "code",
   "execution_count": null,
   "metadata": {},
   "outputs": [],
   "source": []
  }
 ],
 "metadata": {
  "kernelspec": {
   "display_name": "Python 3",
   "language": "python",
   "name": "python3"
  },
  "language_info": {
   "codemirror_mode": {
    "name": "ipython",
    "version": 3
   },
   "file_extension": ".py",
   "mimetype": "text/x-python",
   "name": "python",
   "nbconvert_exporter": "python",
   "pygments_lexer": "ipython3",
   "version": "3.7.6"
  }
 },
 "nbformat": 4,
 "nbformat_minor": 4
}
