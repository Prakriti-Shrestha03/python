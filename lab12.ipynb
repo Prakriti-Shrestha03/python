{
 "cells": [
  {
   "cell_type": "code",
   "execution_count": 1,
   "metadata": {},
   "outputs": [
    {
     "name": "stdout",
     "output_type": "stream",
     "text": [
      "[1 2 3 4 5]\n"
     ]
    }
   ],
   "source": [
    "import numpy as np\n",
    "arr=np.array([1,2,3,4,5])\n",
    "print(\"1D array\")\n",
    "print(arr)"
   ]
  },
  {
   "cell_type": "code",
   "execution_count": 4,
   "metadata": {},
   "outputs": [
    {
     "name": "stdout",
     "output_type": "stream",
     "text": [
      "2D array\n",
      "[[1 2 3]\n",
      " [4 5 6]]\n"
     ]
    }
   ],
   "source": [
    "import numpy as np\n",
    "ar=np.array([[1,2,3],[4,5,6]])\n",
    "print(\"2D array\")\n",
    "print(ar)"
   ]
  },
  {
   "cell_type": "code",
   "execution_count": 7,
   "metadata": {},
   "outputs": [
    {
     "name": "stdout",
     "output_type": "stream",
     "text": [
      "0\n",
      "1\n",
      "2\n",
      "3\n",
      "[[[1 2 3]\n",
      "  [4 5 6]]\n",
      "\n",
      " [[1 2 3]\n",
      "  [4 5 6]]]\n"
     ]
    }
   ],
   "source": [
    "a=np.array(42)\n",
    "b=np.array([1,2,3,4,5])\n",
    "c=np.array([[1,2,3],[4,5,6]])\n",
    "d=np.array([[[1,2,3],[4,5,6]],[[1,2,3],[4,5,6]]])\n",
    "\n",
    "print(a.ndim)\n",
    "print(b.ndim)\n",
    "print(c.ndim)\n",
    "print(d.ndim)\n",
    "print(d)"
   ]
  },
  {
   "cell_type": "code",
   "execution_count": 9,
   "metadata": {},
   "outputs": [
    {
     "name": "stdout",
     "output_type": "stream",
     "text": [
      "2\n",
      "3\n"
     ]
    }
   ],
   "source": [
    "print(c[0,1])\n",
    "print(d[0,0,2])"
   ]
  },
  {
   "cell_type": "code",
   "execution_count": 4,
   "metadata": {},
   "outputs": [
    {
     "name": "stdout",
     "output_type": "stream",
     "text": [
      "Original Matrix\n",
      "[[ 9  3  6 14]\n",
      " [20  9 14 13]\n",
      " [ 1 11 20  7]\n",
      " [12  6  9  9]]\n",
      "\n",
      " Sum of diagonal elements:47\n",
      "\n",
      " Flipped matrix:\n",
      "[[ 9  9  6 12]\n",
      " [ 7 20 11  1]\n",
      " [13 14  9 20]\n",
      " [14  6  3  9]]\n",
      "\n",
      " Positons of elements greater than 15:\n",
      "Row 2,Column 1\n",
      "Row 3,Column 3\n"
     ]
    }
   ],
   "source": [
    "import numpy as np\n",
    "import random \n",
    "\n",
    "matrix= np.random.randint(1,21,(4,4))\n",
    "print(\"Original Matrix\")\n",
    "print(matrix)\n",
    "\n",
    "diagonal_sum=np.trace(matrix)\n",
    "print(f\"\\n Sum of diagonal elements:{diagonal_sum}\")\n",
    "\n",
    "flipped_matrix=np.flip(matrix)\n",
    "print(\"\\n Flipped matrix:\")\n",
    "print(flipped_matrix)\n",
    "\n",
    "positions=np.argwhere(matrix>15)\n",
    "print(\"\\n Positons of elements greater than 15:\")\n",
    "for pos in positions:\n",
    "    print(f\"Row {pos[0]+1},Column {pos[1]+1}\")"
   ]
  },
  {
   "cell_type": "code",
   "execution_count": 6,
   "metadata": {},
   "outputs": [
    {
     "name": "stdout",
     "output_type": "stream",
     "text": [
      "Sales tracker created.\n",
      "Sale record added.\n",
      "Sale record added.\n",
      "Total Sales: $2530.95\n"
     ]
    }
   ],
   "source": [
    "import csv\n",
    "\n",
    "file_path=\"sales_tracker.csv\"\n",
    "\n",
    "def create_csv():\n",
    "    headers=[\"Date\",\"Product\",\"Quantity\",\"Price per Unit\",\"Total\"]\n",
    "    with open(file_path,mode='w',newline=\"\") as file:\n",
    "        writer=csv.writer(file)\n",
    "        writer.writerow(headers)\n",
    "    print(\"Sales tracker created.\")\n",
    "    \n",
    "def add_sale(date,product,quantity,price_per_unit):\n",
    "    total=quantity*price_per_unit\n",
    "    with open(file_path,mode=\"a\",newline=\"\") as file:\n",
    "        writer=csv.writer(file)\n",
    "        writer.writerow([date,product,quantity,price_per_unit,total])\n",
    "    print(\"Sale record added.\")\n",
    "    \n",
    "def calculate_total_sales():\n",
    "    total_sales=0\n",
    "    with open(file_path,mode=\"r\") as file:\n",
    "        reader=csv.DictReader(file)\n",
    "        for row in reader:\n",
    "            total_sales+=float(row[\"Total\"])\n",
    "    print(f\"Total Sales: ${total_sales:.2f}\")\n",
    "    \n",
    "create_csv()\n",
    "add_sale(\"2025-01-06\",\"Laptop\",2,1200.50)\n",
    "add_sale(\"2025-01-06\",\"Mouse\",5,25.99)\n",
    "calculate_total_sales()"
   ]
  },
  {
   "cell_type": "code",
   "execution_count": null,
   "metadata": {},
   "outputs": [],
   "source": []
  }
 ],
 "metadata": {
  "kernelspec": {
   "display_name": "Python 3",
   "language": "python",
   "name": "python3"
  },
  "language_info": {
   "codemirror_mode": {
    "name": "ipython",
    "version": 3
   },
   "file_extension": ".py",
   "mimetype": "text/x-python",
   "name": "python",
   "nbconvert_exporter": "python",
   "pygments_lexer": "ipython3",
   "version": "3.7.6"
  }
 },
 "nbformat": 4,
 "nbformat_minor": 4
}
