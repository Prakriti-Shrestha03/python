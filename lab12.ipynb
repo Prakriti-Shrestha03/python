{
 "cells": [
  {
   "cell_type": "code",
   "execution_count": 1,
   "metadata": {},
   "outputs": [
    {
     "name": "stdout",
     "output_type": "stream",
     "text": [
      "[1 2 3 4 5]\n"
     ]
    }
   ],
   "source": [
    "import numpy as np\n",
    "arr=np.array([1,2,3,4,5])\n",
    "print(\"1D array\")\n",
    "print(arr)"
   ]
  },
  {
   "cell_type": "code",
   "execution_count": 4,
   "metadata": {},
   "outputs": [
    {
     "name": "stdout",
     "output_type": "stream",
     "text": [
      "2D array\n",
      "[[1 2 3]\n",
      " [4 5 6]]\n"
     ]
    }
   ],
   "source": [
    "import numpy as np\n",
    "ar=np.array([[1,2,3],[4,5,6]])\n",
    "print(\"2D array\")\n",
    "print(ar)"
   ]
  },
  {
   "cell_type": "code",
   "execution_count": 7,
   "metadata": {},
   "outputs": [
    {
     "name": "stdout",
     "output_type": "stream",
     "text": [
      "0\n",
      "1\n",
      "2\n",
      "3\n",
      "[[[1 2 3]\n",
      "  [4 5 6]]\n",
      "\n",
      " [[1 2 3]\n",
      "  [4 5 6]]]\n"
     ]
    }
   ],
   "source": [
    "a=np.array(42)\n",
    "b=np.array([1,2,3,4,5])\n",
    "c=np.array([[1,2,3],[4,5,6]])\n",
    "d=np.array([[[1,2,3],[4,5,6]],[[1,2,3],[4,5,6]]])\n",
    "\n",
    "print(a.ndim)\n",
    "print(b.ndim)\n",
    "print(c.ndim)\n",
    "print(d.ndim)\n",
    "print(d)"
   ]
  },
  {
   "cell_type": "code",
   "execution_count": 9,
   "metadata": {},
   "outputs": [
    {
     "name": "stdout",
     "output_type": "stream",
     "text": [
      "2\n",
      "3\n"
     ]
    }
   ],
   "source": [
    "print(c[0,1])\n",
    "print(d[0,0,2])"
   ]
  },
  {
   "cell_type": "code",
   "execution_count": 4,
   "metadata": {},
   "outputs": [
    {
     "name": "stdout",
     "output_type": "stream",
     "text": [
      "Original Matrix\n",
      "[[ 9  3  6 14]\n",
      " [20  9 14 13]\n",
      " [ 1 11 20  7]\n",
      " [12  6  9  9]]\n",
      "\n",
      " Sum of diagonal elements:47\n",
      "\n",
      " Flipped matrix:\n",
      "[[ 9  9  6 12]\n",
      " [ 7 20 11  1]\n",
      " [13 14  9 20]\n",
      " [14  6  3  9]]\n",
      "\n",
      " Positons of elements greater than 15:\n",
      "Row 2,Column 1\n",
      "Row 3,Column 3\n"
     ]
    }
   ],
   "source": [
    "import numpy as np\n",
    "import random \n",
    "\n",
    "matrix= np.random.randint(1,21,(4,4))\n",
    "print(\"Original Matrix\")\n",
    "print(matrix)\n",
    "\n",
    "diagonal_sum=np.trace(matrix)\n",
    "print(f\"\\n Sum of diagonal elements:{diagonal_sum}\")\n",
    "\n",
    "flipped_matrix=np.flip(matrix)\n",
    "print(\"\\n Flipped matrix:\")\n",
    "print(flipped_matrix)\n",
    "\n",
    "positions=np.argwhere(matrix>15)\n",
    "print(\"\\n Positons of elements greater than 15:\")\n",
    "for pos in positions:\n",
    "    print(f\"Row {pos[0]+1},Column {pos[1]+1}\")"
   ]
  },
  {
   "cell_type": "code",
   "execution_count": 6,
   "metadata": {},
   "outputs": [
    {
     "name": "stdout",
     "output_type": "stream",
     "text": [
      "Sales tracker created.\n",
      "Sale record added.\n",
      "Sale record added.\n",
      "Total Sales: $2530.95\n"
     ]
    }
   ],
   "source": [
    "import csv\n",
    "\n",
    "file_path=\"sales_tracker.csv\"\n",
    "\n",
    "def create_csv():\n",
    "    headers=[\"Date\",\"Product\",\"Quantity\",\"Price per Unit\",\"Total\"]\n",
    "    with open(file_path,mode='w',newline=\"\") as file:\n",
    "        writer=csv.writer(file)\n",
    "        writer.writerow(headers)\n",
    "    print(\"Sales tracker created.\")\n",
    "    \n",
    "def add_sale(date,product,quantity,price_per_unit):\n",
    "    total=quantity*price_per_unit\n",
    "    with open(file_path,mode=\"a\",newline=\"\") as file:\n",
    "        writer=csv.writer(file)\n",
    "        writer.writerow([date,product,quantity,price_per_unit,total])\n",
    "    print(\"Sale record added.\")\n",
    "    \n",
    "def calculate_total_sales():\n",
    "    total_sales=0\n",
    "    with open(file_path,mode=\"r\") as file:\n",
    "        reader=csv.DictReader(file)\n",
    "        for row in reader:\n",
    "            total_sales+=float(row[\"Total\"])\n",
    "    print(f\"Total Sales: ${total_sales:.2f}\")\n",
    "    \n",
    "create_csv()\n",
    "add_sale(\"2025-01-06\",\"Laptop\",2,1200.50)\n",
    "add_sale(\"2025-01-06\",\"Mouse\",5,25.99)\n",
    "calculate_total_sales()"
   ]
  },
  {
   "cell_type": "code",
   "execution_count": 50,
   "metadata": {},
   "outputs": [
    {
     "name": "stdout",
     "output_type": "stream",
     "text": [
      "Sales Data created.\n",
      "Sale Record added\n",
      "Sale Record added\n",
      "Sale Record added\n",
      "Sale Record added\n",
      "Sale Record added\n",
      "Sale Record added\n",
      "Sale Record added\n",
      "Sale Record added\n",
      "Sale Record added\n",
      "Sale Record added\n",
      "Sale Record added\n",
      "Sale Record added\n",
      "Sale Record added\n",
      "Generated 10 random sales records.\n",
      "Sales Summary created.\n",
      "Sales Summary updated.\n",
      "The average mean is 218070.09\n",
      "The highest revenue= 840233.01 \n",
      "The average mean is 218070.09230769234\n",
      "The highest revenue= Headphones \n"
     ]
    },
    {
     "ename": "TypeError",
     "evalue": "unsupported operand type(s) for +: 'int' and 'str'",
     "output_type": "error",
     "traceback": [
      "\u001b[1;31m---------------------------------------------------------------------------\u001b[0m",
      "\u001b[1;31mTypeError\u001b[0m                                 Traceback (most recent call last)",
      "\u001b[1;32m<ipython-input-50-ef711e7f3473>\u001b[0m in \u001b[0;36m<module>\u001b[1;34m\u001b[0m\n\u001b[0;32m     94\u001b[0m \u001b[0mcreate_ss\u001b[0m\u001b[1;33m(\u001b[0m\u001b[1;33m)\u001b[0m\u001b[1;33m\u001b[0m\u001b[1;33m\u001b[0m\u001b[0m\n\u001b[0;32m     95\u001b[0m \u001b[0mupdate_ss\u001b[0m\u001b[1;33m(\u001b[0m\u001b[1;33m)\u001b[0m\u001b[1;33m\u001b[0m\u001b[1;33m\u001b[0m\u001b[0m\n\u001b[1;32m---> 96\u001b[1;33m \u001b[0mcalculation\u001b[0m\u001b[1;33m(\u001b[0m\u001b[1;33m)\u001b[0m\u001b[1;33m\u001b[0m\u001b[1;33m\u001b[0m\u001b[0m\n\u001b[0m\u001b[0;32m     97\u001b[0m \u001b[1;33m\u001b[0m\u001b[0m\n\u001b[0;32m     98\u001b[0m \u001b[1;33m\u001b[0m\u001b[0m\n",
      "\u001b[1;32m<ipython-input-50-ef711e7f3473>\u001b[0m in \u001b[0;36mcalculation\u001b[1;34m()\u001b[0m\n\u001b[0;32m     82\u001b[0m     \u001b[1;32mfor\u001b[0m \u001b[0mrow\u001b[0m \u001b[1;32min\u001b[0m \u001b[0msales_data\u001b[0m\u001b[1;33m:\u001b[0m\u001b[1;33m\u001b[0m\u001b[1;33m\u001b[0m\u001b[0m\n\u001b[0;32m     83\u001b[0m         \u001b[0mregion\u001b[0m\u001b[1;33m=\u001b[0m\u001b[0mrow\u001b[0m\u001b[1;33m[\u001b[0m\u001b[1;34m\"Region\"\u001b[0m\u001b[1;33m]\u001b[0m\u001b[1;33m\u001b[0m\u001b[1;33m\u001b[0m\u001b[0m\n\u001b[1;32m---> 84\u001b[1;33m         \u001b[0mregion_revenue_map\u001b[0m\u001b[1;33m[\u001b[0m\u001b[0mregion\u001b[0m\u001b[1;33m]\u001b[0m\u001b[1;33m=\u001b[0m\u001b[0mregion_revenue_map\u001b[0m\u001b[1;33m.\u001b[0m\u001b[0mget\u001b[0m\u001b[1;33m(\u001b[0m\u001b[0mregion\u001b[0m\u001b[1;33m,\u001b[0m\u001b[1;36m0\u001b[0m\u001b[1;33m)\u001b[0m\u001b[1;33m+\u001b[0m\u001b[0mrow\u001b[0m\u001b[1;33m[\u001b[0m\u001b[1;34m\"Total Revenue\"\u001b[0m\u001b[1;33m]\u001b[0m\u001b[1;33m\u001b[0m\u001b[1;33m\u001b[0m\u001b[0m\n\u001b[0m\u001b[0;32m     85\u001b[0m     \u001b[0mprint\u001b[0m\u001b[1;33m(\u001b[0m\u001b[1;34mf\"The revenue by region is {region_revenue_map}\"\u001b[0m\u001b[1;33m)\u001b[0m\u001b[1;33m\u001b[0m\u001b[1;33m\u001b[0m\u001b[0m\n\u001b[0;32m     86\u001b[0m \u001b[1;33m\u001b[0m\u001b[0m\n",
      "\u001b[1;31mTypeError\u001b[0m: unsupported operand type(s) for +: 'int' and 'str'"
     ]
    }
   ],
   "source": [
    "import csv\n",
    "import numpy as np\n",
    "import random\n",
    "\n",
    "file_path1=\"sales_data.csv\"\n",
    "file_path2=\"sales_summary.csv\"\n",
    "\n",
    "def create_sd():\n",
    "    headers=[\"Product\",\"Region\",\"Sales\",\"Price\"]\n",
    "    with open(file_path1,mode=\"w\",newline=\"\") as file:\n",
    "        writer=csv.writer(file)\n",
    "        writer.writerow(headers)\n",
    "    print(\"Sales Data created.\")\n",
    "    \n",
    "def add_sale(product,region,sales,price):\n",
    "    with open(file_path1,mode=\"a\",newline=\"\")as file:\n",
    "        writer=csv.writer(file)\n",
    "        writer.writerow([product,region,sales,price])\n",
    "    print(\"Sale Record added\")\n",
    "\n",
    "def generate_random_sales_data(num_record):\n",
    "    products=[\"Laptop\",\"Samartphone\",\"Tablet\",\"Headphones\",\"Mouse\"]\n",
    "    regions=[\"Kathmandu\",\"Pokhara\",\"Birgunj\",\"Illam\"]\n",
    "    \n",
    "    for _ in range(num_record):\n",
    "        product=random.choice(products)\n",
    "        region=random.choice(regions)\n",
    "        sales=random.randint(10,500)\n",
    "        price=round(random.uniform(10.0,2000.0),2)\n",
    "        add_sale(product,region,sales,price)\n",
    "    print(f\"Generated {num_record} random sales records.\")\n",
    "    \n",
    "def create_ss():\n",
    "    headers=[\"Product\",\"Region\",\"Total Revenue\"]\n",
    "    with open(file_path2,mode=\"w\",newline=\"\") as file:\n",
    "        writer=csv.writer(file)\n",
    "        writer.writerow(headers)\n",
    "    print(\"Sales Summary created.\")\n",
    "    \n",
    "def update_ss():\n",
    "    with open(file_path1,mode=\"r\") as file1:\n",
    "        reader=csv.DictReader(file1)\n",
    "        Product=[]\n",
    "        Region=[]\n",
    "        Sale=[]\n",
    "        Price=[]\n",
    "        for row in reader:\n",
    "            Product.append(row[\"Product\"])\n",
    "            Region.append(row[\"Region\"])\n",
    "            Sale.append(row[\"Sales\"])\n",
    "            Price.append(row[\"Price\"])\n",
    "        with open(file_path2,mode=\"a\",newline=\"\") as file2:\n",
    "            writer=csv.writer(file2)\n",
    "            for i in range(len(Product)):\n",
    "                writer.writerow([Product[i],Region[i],float(Sale[i])*float(Price[i])])\n",
    "            print(\"Sales Summary updated.\")\n",
    "            \n",
    "def calculation():\n",
    "    with open(file_path2,mode=\"r\")as file:\n",
    "        reader=csv.DictReader(file)\n",
    "        total=0\n",
    "        n=0\n",
    "        highest=0\n",
    "        sales_data=[]\n",
    "        for row in reader:\n",
    "            total+=float(row[\"Total Revenue\"])\n",
    "            n+=1\n",
    "            sales_data.append(row)\n",
    "            if float(row[\"Total Revenue\"])>=highest:\n",
    "                highest=float(row[\"Total Revenue\"])\n",
    "        print(f\"The average mean is {total/n:.2f}\")\n",
    "        print(f\"The highest revenue= {highest} \")\n",
    "        \n",
    "        \n",
    "    revenue=np.array([float(row[\"Total Revenue\"]) for row in sales_data]) \n",
    "    average_revenue=np.mean(revenue)\n",
    "    print(f\"The average mean is {average_revenue}\")\n",
    "    product_revenue_map={row[\"Product\"]:row[\"Total Revenue\"] for row in sales_data}\n",
    "    product_with_highest_revenue=max(product_revenue_map,key=product_revenue_map.get)\n",
    "    print(f\"The highest revenue= {product_with_highest_revenue} \")\n",
    "    region_revenue_map={}\n",
    "    for row in sales_data:\n",
    "        region=row[\"Region\"]\n",
    "        region_revenue_map[region]=region_revenue_map.get(region,0)+float(row[\"Total Revenue\"])\n",
    "    print(f\"The revenue by region is {region_revenue_map}\")\n",
    "    \n",
    "        \n",
    "        \n",
    "create_sd()\n",
    "add_sale(\"Bag\",\"Kathmandu\",5,1000)\n",
    "add_sale(\"Pouch\",\"Lalitpur\",2,500)\n",
    "add_sale(\"Pouch\",\"Kathmandu\",10,500)\n",
    "generate_random_sales_data(10)\n",
    "create_ss()\n",
    "update_ss()\n",
    "calculation()\n",
    "    \n",
    "    "
   ]
  },
  {
   "cell_type": "code",
   "execution_count": null,
   "metadata": {},
   "outputs": [],
   "source": []
  }
 ],
 "metadata": {
  "kernelspec": {
   "display_name": "Python 3",
   "language": "python",
   "name": "python3"
  },
  "language_info": {
   "codemirror_mode": {
    "name": "ipython",
    "version": 3
   },
   "file_extension": ".py",
   "mimetype": "text/x-python",
   "name": "python",
   "nbconvert_exporter": "python",
   "pygments_lexer": "ipython3",
   "version": "3.7.6"
  }
 },
 "nbformat": 4,
 "nbformat_minor": 4
}
