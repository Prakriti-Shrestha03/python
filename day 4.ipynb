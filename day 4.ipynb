{
 "cells": [
  {
   "cell_type": "code",
   "execution_count": 1,
   "metadata": {},
   "outputs": [
    {
     "name": "stdout",
     "output_type": "stream",
     "text": [
      "1\n",
      "3\n",
      "5\n",
      "7\n",
      "9\n"
     ]
    }
   ],
   "source": [
    "x=0\n",
    "while x<10:\n",
    "    x+=1\n",
    "    if (x%2==0):\n",
    "        continue\n",
    "    print(x)"
   ]
  },
  {
   "cell_type": "code",
   "execution_count": 2,
   "metadata": {},
   "outputs": [
    {
     "name": "stdout",
     "output_type": "stream",
     "text": [
      "['apple', 'banana']\n"
     ]
    }
   ],
   "source": [
    "empty_list=[]\n",
    "empty_list.append(\"apple\")\n",
    "empty_list.append(\"banana\")\n",
    "\n",
    "print(empty_list)\n"
   ]
  },
  {
   "cell_type": "code",
   "execution_count": 15,
   "metadata": {},
   "outputs": [
    {
     "name": "stdout",
     "output_type": "stream",
     "text": [
      "['carrot', 'mango', 'cherry', 'carrot', 'apple', 'carrot', 'mango', 'carrot', 'cherry', 'apple']\n"
     ]
    }
   ],
   "source": [
    "empty_list.append(\"apple\")\n",
    "empty_list.append(\"banana\")\n",
    "empty_list.pop(0)\n",
    "empty_list.remove(\"banana\")\n",
    "print(empty_list)"
   ]
  },
  {
   "cell_type": "code",
   "execution_count": 14,
   "metadata": {},
   "outputs": [
    {
     "name": "stdout",
     "output_type": "stream",
     "text": [
      "['cherry', 'carrot', 'mango', 'cherry', 'carrot', 'apple', 'carrot', 'mango', 'carrot', 'cherry']\n",
      "Item position:0 and value:cherry\n",
      "Item position:1 and value:carrot\n",
      "Item position:2 and value:mango\n",
      "Item position:3 and value:cherry\n",
      "Item position:4 and value:carrot\n",
      "Item position:5 and value:apple\n",
      "Item position:6 and value:carrot\n",
      "Item position:7 and value:mango\n",
      "Item position:8 and value:carrot\n",
      "Item position:9 and value:cherry\n"
     ]
    }
   ],
   "source": [
    "empty_list.append(\"mango\")\n",
    "empty_list.append(\"carrot\")\n",
    "empty_list.append(\"cherry\")\n",
    "print(empty_list)\n",
    "\n",
    "for index,fruit in enumerate(empty_list):\n",
    "    print(f\"Item position:{index} and value:{fruit}\")"
   ]
  },
  {
   "cell_type": "code",
   "execution_count": 18,
   "metadata": {},
   "outputs": [
    {
     "name": "stdout",
     "output_type": "stream",
     "text": [
      "banana\n",
      "apple banana ['cherry', 'strawberry', 'raspberry']\n"
     ]
    }
   ],
   "source": [
    "fruits=(\"apple\",\"banana\",\"cherry\",\"strawberry\",\"raspberry\")\n",
    "print(fruits[1])\n",
    "(green,yellow,*red)=fruits\n",
    "print(green,yellow,red)"
   ]
  },
  {
   "cell_type": "code",
   "execution_count": 19,
   "metadata": {},
   "outputs": [
    {
     "name": "stdout",
     "output_type": "stream",
     "text": [
      "cherry\n",
      "strawberry\n",
      "banana\n",
      "raspberry\n",
      "apple\n",
      "{'cherry', 'strawberry', 'banana', 'raspberry', 'apple'}\n"
     ]
    }
   ],
   "source": [
    "fruits={\"apple\",\"banana\",\"cherry\",\"strawberry\",\"raspberry\"}\n",
    "for item in fruits:\n",
    "    print(item)\n",
    "\n",
    "fruits.add(\"apple\")\n",
    "print(fruits)\n"
   ]
  },
  {
   "cell_type": "code",
   "execution_count": 21,
   "metadata": {},
   "outputs": [
    {
     "name": "stdout",
     "output_type": "stream",
     "text": [
      "Mustang\n",
      "dict_items([('brand', 'Ford'), ('model', 'Mustang'), ('year', 1964)])\n",
      "dict_keys(['brand', 'model', 'year'])\n",
      "dict_values(['Ford', 'Mustang', 1964])\n"
     ]
    }
   ],
   "source": [
    "thisdict={\n",
    "    \"brand\":\"Ford\",\n",
    "    \"model\":\"Mustang\",\n",
    "    \"year\":1964\n",
    "}\n",
    "print(thisdict[\"model\"])\n",
    "print(thisdict.items())\n",
    "print(thisdict.keys())\n",
    "print(thisdict.values())"
   ]
  },
  {
   "cell_type": "code",
   "execution_count": null,
   "metadata": {},
   "outputs": [],
   "source": []
  }
 ],
 "metadata": {
  "kernelspec": {
   "display_name": "Python 3",
   "language": "python",
   "name": "python3"
  },
  "language_info": {
   "codemirror_mode": {
    "name": "ipython",
    "version": 3
   },
   "file_extension": ".py",
   "mimetype": "text/x-python",
   "name": "python",
   "nbconvert_exporter": "python",
   "pygments_lexer": "ipython3",
   "version": "3.7.6"
  }
 },
 "nbformat": 4,
 "nbformat_minor": 4
}
