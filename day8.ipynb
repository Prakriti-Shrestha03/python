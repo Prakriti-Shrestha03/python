{
 "cells": [
  {
   "cell_type": "code",
   "execution_count": 10,
   "metadata": {},
   "outputs": [
    {
     "name": "stdout",
     "output_type": "stream",
     "text": [
      "Vehicle is driving\n",
      "None\n"
     ]
    }
   ],
   "source": [
    "from abc import ABC, abstractmethod\n",
    "\n",
    "class Vehicle(ABC):\n",
    "#     @abstractmethod\n",
    "    def drive(self):\n",
    "        print(\"Vehicle is driving\")\n",
    "    \n",
    "    def new_fn(self):\n",
    "        print(\"My new fn\")\n",
    "        \n",
    "class Car(Vehicle):\n",
    "    pass\n",
    "\n",
    "car=Car()\n",
    "print(car.drive())\n"
   ]
  },
  {
   "cell_type": "code",
   "execution_count": 14,
   "metadata": {},
   "outputs": [
    {
     "name": "stdout",
     "output_type": "stream",
     "text": [
      "Name: Ruman and Balance:Hidden\n",
      "100\n",
      "350\n"
     ]
    }
   ],
   "source": [
    "class BankAccount:\n",
    "    def __init__(self,name):\n",
    "        self._balance=0\n",
    "        self.name=name\n",
    "    \n",
    "    def deposit(self,amount):\n",
    "        self._balance+=amount\n",
    "        \n",
    "    def withdraw(self,amount):\n",
    "        self._balance-=amount\n",
    "        \n",
    "    def get_balance(self):\n",
    "        return self._balance\n",
    "    \n",
    "    def __str__(self):\n",
    "        return f\"Name: {self.name} and Balance:Hidden\"\n",
    "    \n",
    "ruman=BankAccount(\"Ruman\")\n",
    "ruman.deposit(100)\n",
    "print(ruman)\n",
    "print(ruman.get_balance())\n",
    "ruman.withdraw(50)\n",
    "ruman.deposit(400)\n",
    "ruman.withdraw(100)\n",
    "print(ruman.get_balance())"
   ]
  }
 ],
 "metadata": {
  "kernelspec": {
   "display_name": "Python 3",
   "language": "python",
   "name": "python3"
  },
  "language_info": {
   "codemirror_mode": {
    "name": "ipython",
    "version": 3
   },
   "file_extension": ".py",
   "mimetype": "text/x-python",
   "name": "python",
   "nbconvert_exporter": "python",
   "pygments_lexer": "ipython3",
   "version": "3.7.6"
  }
 },
 "nbformat": 4,
 "nbformat_minor": 4
}
