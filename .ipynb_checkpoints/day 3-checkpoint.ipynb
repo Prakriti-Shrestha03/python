{
 "cells": [
  {
   "cell_type": "code",
   "execution_count": 1,
   "metadata": {},
   "outputs": [
    {
     "name": "stdout",
     "output_type": "stream",
     "text": [
      "enter a nuber6\n",
      "Too low\n",
      "enter a nuber90\n",
      "Too high\n",
      "enter a nuber60\n",
      "Too low\n",
      "enter a nuber70\n",
      "Too low\n",
      "enter a nuber80\n",
      "Too low\n",
      "enter a nuber85\n",
      "Too high\n",
      "enter a nuber82\n",
      "Too low\n",
      "enter a nuber83\n",
      "Too low\n",
      "enter a nuber84\n",
      "Correct\n"
     ]
    }
   ],
   "source": [
    "#number guessing game\n",
    "import random\n",
    "random_num=random.randint(1,100)\n",
    "while True:\n",
    "    user_guess=int(input(\"enter a number\"))\n",
    "    if user_guess== random_num:\n",
    "        print(\"Correct\")\n",
    "        break\n",
    "    elif user_guess<random_num:\n",
    "        print(\"Higher\")\n",
    "    else:\n",
    "        print(\"Lower\")"
   ]
  }
 ],
 "metadata": {
  "kernelspec": {
   "display_name": "Python 3",
   "language": "python",
   "name": "python3"
  },
  "language_info": {
   "codemirror_mode": {
    "name": "ipython",
    "version": 3
   },
   "file_extension": ".py",
   "mimetype": "text/x-python",
   "name": "python",
   "nbconvert_exporter": "python",
   "pygments_lexer": "ipython3",
   "version": "3.7.6"
  }
 },
 "nbformat": 4,
 "nbformat_minor": 4
}
