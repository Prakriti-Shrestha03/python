{
 "cells": [
  {
   "cell_type": "code",
   "execution_count": 2,
   "metadata": {},
   "outputs": [
    {
     "name": "stdout",
     "output_type": "stream",
     "text": [
      "Rock-Paper-Scissors Game starts\n",
      "Enter your Choicerok\n",
      "The computer chooses paper\n",
      "Not a choice\n",
      "Do you want to keep playing(yes/no)yes\n",
      "Enter your Choicerock\n",
      "The computer chooses paper\n",
      "Computer wins this round\n",
      "Do you want to keep playing(yes/no)yes\n",
      "Enter your Choicepaper\n",
      "The computer chooses paper\n",
      "Draw.No points for either\n",
      "Do you want to keep playing(yes/no)yes\n",
      "Enter your Choicescissors\n",
      "The computer chooses rock\n",
      "Computer wins this round\n",
      "Do you want to keep playing(yes/no)yes\n",
      "Enter your Choicepaper\n",
      "The computer chooses rock\n",
      "Human wins this round\n",
      "Do you want to keep playing(yes/no)no\n",
      "Your Score=1 \n",
      "Computer's Score=2\n",
      "You Lose\n"
     ]
    }
   ],
   "source": [
    "import random\n",
    "\n",
    "moves=[\"rock\", \"paper\",\"scissors\"]\n",
    "print(\"\"\"Rock-Paper-Scissors Game starts\"\"\")\n",
    "comp_point=0\n",
    "hum_point=0\n",
    "while True:\n",
    "    y=input(\"Enter your Choice\").lower()\n",
    "    x=random.choice(moves)\n",
    "    print(f\"The computer chooses {x}\")\n",
    "    if y==\"rock\":\n",
    "        if x==\"rock\":\n",
    "            print(\"Draw.No points for either\")\n",
    "        elif x==\"paper\":\n",
    "            comp_point+=1\n",
    "            print(\"Computer wins this round\")\n",
    "        elif x==\"scissors\":\n",
    "            hum_point+=1\n",
    "            print(\"Human wins this round\")\n",
    "    elif y==\"paper\":\n",
    "        if x==\"rock\":\n",
    "            hum_point+=1\n",
    "            print(\"Human wins this round\")\n",
    "        elif x==\"paper\":\n",
    "            print(\"Draw.No points for either\")\n",
    "        elif x==\"scissors\":\n",
    "            comp_point+=1\n",
    "            print(\"Computer wins this round\")\n",
    "    elif y==\"scissors\":\n",
    "        if x==\"rock\":\n",
    "            comp_point+=1\n",
    "            print(\"Computer wins this round\")\n",
    "        elif x==\"paper\":\n",
    "            hum_point+=1\n",
    "            print(\"Human wins this round\")\n",
    "        elif x==\"scissors\":\n",
    "            print(\"Draw.No points for either\")\n",
    "    else:\n",
    "        print(\"Not a choice\")\n",
    "        \n",
    "    x=input(\"Do you want to keep playing(yes/no)\").lower()\n",
    "    if x==\"no\":\n",
    "        break\n",
    "        \n",
    "print(f\"Your Score={hum_point} \\nComputer's Score={comp_point}\")\n",
    "if hum_point==comp_point:\n",
    "    print(\"Draw\")\n",
    "elif hum_point>comp_point:\n",
    "    print(\"You Win\")\n",
    "else:\n",
    "    print(\"You Lose\")"
   ]
  },
  {
   "cell_type": "code",
   "execution_count": 10,
   "metadata": {},
   "outputs": [
    {
     "name": "stdout",
     "output_type": "stream",
     "text": [
      "Enter the required length of the string.It should be longer than 45\n",
      "The computer generated passowrd is %Ljq9\n"
     ]
    }
   ],
   "source": [
    "import random \n",
    "import string\n",
    "\n",
    "lowercase=list(string.ascii_lowercase)\n",
    "uppercase=list(string.ascii_uppercase)\n",
    "num=[\"0\",\"1\",\"2\",\"3\",\"4\",\"5\",\"6\",\"7\",\"8\",\"9\"]\n",
    "spec_char=[\"@\",\"#\",\"%\"]\n",
    "\n",
    "comp=[lowercase,uppercase,num,spec_char]\n",
    "x=int(input(\"Enter the required length of the string.It should be longer than 4\"))\n",
    "\n",
    "password=[random.choice(lowercase),random.choice(uppercase),random.choice(num),random.choice(spec_char)]\n",
    "\n",
    "for i in range(x-4):\n",
    "    x=random.choice(comp)\n",
    "    y=random.choice(x)\n",
    "    password.append(y)\n",
    "    random.shuffle(password)\n",
    "passwords=\"\"\n",
    "for x in password:\n",
    "    passwords=passwords+x\n",
    "print(f\"The computer generated passowrd is {passwords}\")"
   ]
  },
  {
   "cell_type": "code",
   "execution_count": 18,
   "metadata": {},
   "outputs": [
    {
     "name": "stdout",
     "output_type": "stream",
     "text": [
      "Enter a Wordo\n",
      "o is in the word\n",
      "Enter a Worda\n",
      "a is not in the word\n",
      "Enter a Wordv\n",
      "v is not in the word\n",
      "Enter a Wordn\n",
      "n is not in the word\n",
      "Enter a Wordm\n",
      "m is not in the word\n",
      "Enter a Wordl\n",
      "l is not in the word\n",
      "You've Lost\n",
      "The word was theory\n"
     ]
    }
   ],
   "source": [
    "import random\n",
    "\n",
    "words=[\"father\",\"daughter\",\"ocean\",\"theory\"]\n",
    "\n",
    "guess=5\n",
    "right=0\n",
    "guesses=[]\n",
    "x=random.choice(words)\n",
    "while True:\n",
    "    y=input(\"Enter a Word\")\n",
    "    \n",
    "    if y in x and y not in guesses:\n",
    "        print(f\"{y} is in the word\")\n",
    "        right+=1\n",
    "        guesses.append(y)\n",
    "    elif y not in x and y not in guesses:\n",
    "        print(f\"{y} is not in the word\")\n",
    "        guesses.append(y)\n",
    "        guess-=1\n",
    "    else:\n",
    "        print(f\"You've already guessed {y} \")\n",
    "    \n",
    "    if guess==0:\n",
    "        print(\"You've Lost\")\n",
    "        break\n",
    "        \n",
    "    if right==len(x):\n",
    "        print(\"You've Won.\")\n",
    "        break\n",
    "        \n",
    "print(f\"The word was {x}\")"
   ]
  },
  {
   "cell_type": "code",
   "execution_count": 22,
   "metadata": {},
   "outputs": [
    {
     "name": "stdout",
     "output_type": "stream",
     "text": [
      "10\n",
      "9\n",
      "8\n",
      "7\n",
      "6\n",
      "5\n",
      "4\n",
      "3\n",
      "2\n",
      "1\n"
     ]
    }
   ],
   "source": [
    "import time\n",
    "\n",
    "x=10\n",
    "for i in range(10):\n",
    "    time.sleep(1)\n",
    "    print(x-i)"
   ]
  },
  {
   "cell_type": "code",
   "execution_count": 1,
   "metadata": {},
   "outputs": [
    {
     "name": "stdout",
     "output_type": "stream",
     "text": [
      "Enter how many times you want to roll5\n",
      "Rolling...\n",
      "5\n",
      "Rolling...\n",
      "3\n",
      "Rolling...\n",
      "2\n",
      "Rolling...\n",
      "3\n",
      "Rolling...\n",
      "4\n"
     ]
    }
   ],
   "source": [
    "import random\n",
    "\n",
    "dice=[\"1\",\"2\",\"3\",\"4\",\"5\",\"6\"]\n",
    "x=int(input(\"Enter how many times you want to roll\"))\n",
    "for i in range(x):\n",
    "    y=random.choice(dice)\n",
    "    print(\"Rolling...\")\n",
    "    print(y)"
   ]
  },
  {
   "cell_type": "code",
   "execution_count": 6,
   "metadata": {},
   "outputs": [
    {
     "name": "stdout",
     "output_type": "stream",
     "text": [
      "CSV created\n",
      "Enter the name\n",
      "Enter the birthday month\n",
      "Enter birthday day\n"
     ]
    },
    {
     "ename": "ValueError",
     "evalue": "invalid literal for int() with base 10: ''",
     "output_type": "error",
     "traceback": [
      "\u001b[1;31m---------------------------------------------------------------------------\u001b[0m",
      "\u001b[1;31mValueError\u001b[0m                                Traceback (most recent call last)",
      "\u001b[1;32m<ipython-input-6-4fb4ce66dc26>\u001b[0m in \u001b[0;36m<module>\u001b[1;34m\u001b[0m\n\u001b[0;32m     36\u001b[0m     \u001b[0mx\u001b[0m\u001b[1;33m=\u001b[0m\u001b[0minput\u001b[0m\u001b[1;33m(\u001b[0m\u001b[1;34m\"Enter the name\"\u001b[0m\u001b[1;33m)\u001b[0m\u001b[1;33m\u001b[0m\u001b[1;33m\u001b[0m\u001b[0m\n\u001b[0;32m     37\u001b[0m     \u001b[0my\u001b[0m\u001b[1;33m=\u001b[0m\u001b[0minput\u001b[0m\u001b[1;33m(\u001b[0m\u001b[1;34m\"Enter the birthday month\"\u001b[0m\u001b[1;33m)\u001b[0m\u001b[1;33m\u001b[0m\u001b[1;33m\u001b[0m\u001b[0m\n\u001b[1;32m---> 38\u001b[1;33m     \u001b[0ma\u001b[0m\u001b[1;33m=\u001b[0m\u001b[0mint\u001b[0m\u001b[1;33m(\u001b[0m\u001b[0minput\u001b[0m\u001b[1;33m(\u001b[0m\u001b[1;34m\"Enter birthday day\"\u001b[0m\u001b[1;33m)\u001b[0m\u001b[1;33m)\u001b[0m\u001b[1;33m\u001b[0m\u001b[1;33m\u001b[0m\u001b[0m\n\u001b[0m\u001b[0;32m     39\u001b[0m     \u001b[0madd_birthday\u001b[0m\u001b[1;33m(\u001b[0m\u001b[0mx\u001b[0m\u001b[1;33m,\u001b[0m\u001b[0my\u001b[0m\u001b[1;33m,\u001b[0m\u001b[0ma\u001b[0m\u001b[1;33m)\u001b[0m\u001b[1;33m\u001b[0m\u001b[1;33m\u001b[0m\u001b[0m\n\u001b[0;32m     40\u001b[0m     \u001b[0mz\u001b[0m\u001b[1;33m=\u001b[0m\u001b[0minput\u001b[0m\u001b[1;33m(\u001b[0m\u001b[1;34m\"Do you want to add more people\"\u001b[0m\u001b[1;33m)\u001b[0m\u001b[1;33m.\u001b[0m\u001b[0mlower\u001b[0m\u001b[1;33m(\u001b[0m\u001b[1;33m)\u001b[0m\u001b[1;33m\u001b[0m\u001b[1;33m\u001b[0m\u001b[0m\n",
      "\u001b[1;31mValueError\u001b[0m: invalid literal for int() with base 10: ''"
     ]
    }
   ],
   "source": [
    "import csv\n",
    "\n",
    "def create_csv():\n",
    "    headers=[\"Name\",\"Birthday Month\",\"Birth Day\"]\n",
    "    with open(\"birthday.csv\",mode=\"w\") as file:\n",
    "        writer=csv.writer(file)\n",
    "        writer.writerow(headers)\n",
    "    print(\"CSV created\")\n",
    "        \n",
    "def add_birthday(name,month,day):\n",
    "    with open(\"birthday.csv\",mode=\"a\",newline=\"\") as file:\n",
    "        writer=csv.writer(file)\n",
    "        writer.writerow([name,month,day])\n",
    "    print(\"Person Added\")\n",
    "        \n",
    "def remainder():\n",
    "    x=input(\"Enter the current month\")\n",
    "    print(\"The Birthdays these month are:\")\n",
    "    with open(\"birthday.csv\",mode=\"r\")as file:\n",
    "        reader=csv.DictReader(file)\n",
    "        for row in reader:\n",
    "            if x.lower()==row[\"Birthday Month\"].lower():\n",
    "                print(f\"Name:{row['Name']} Birthday:{row['Birthday Month']} {row['Birth Day']}\")\n",
    "                \n",
    "def find_bday(name):\n",
    "     with open(\"birthday.csv\",mode=\"r\")as file:\n",
    "        reader=csv.DictReader(file)\n",
    "        for row in reader:\n",
    "            if name in row[\"Name\"]:\n",
    "                print(\"Person Found\")\n",
    "                print(f\"Name:{row['Name']} Birthday:{row['Birthday Month']} {row['Birth Day']}\")\n",
    "                break\n",
    "            \n",
    "create_csv()\n",
    "while True:\n",
    "    x=input(\"Enter the name\")\n",
    "    y=input(\"Enter the birthday month\")\n",
    "    a=int(input(\"Enter birthday day\"))\n",
    "    add_birthday(x,y,a)\n",
    "    z=input(\"Do you want to add more people\").lower()\n",
    "    if z==\"no\":\n",
    "        break\n",
    "remainder()\n",
    "find_bday(\"ram\")"
   ]
  },
  {
   "cell_type": "code",
   "execution_count": 4,
   "metadata": {},
   "outputs": [
    {
     "name": "stdout",
     "output_type": "stream",
     "text": [
      "Chatbot activated.\n",
      "Enter a dialogueyo\n",
      "I'm Sorry. I don't understand\n"
     ]
    }
   ],
   "source": [
    "chat={\n",
    "    \"hi\":\"Hello\",\n",
    "    \"how are you?\":\"I am Fine.Thank you.What about you?\",\n",
    "    \"what is your name?\": \"My name is ...\"\n",
    "}\n",
    "\n",
    "print(\"Chatbot activated.\")\n",
    "while True:\n",
    "    x=input(\"Enter a dialogue\")\n",
    "    if x in chat.keys():\n",
    "        print(chat[x])\n",
    "    else:\n",
    "        print(\"I'm Sorry. I don't understand\")\n",
    "    y=input(\"Do you wanna keep talking\").lower()\n",
    "    if y==\"no\":\n",
    "        break"
   ]
  }
 ],
 "metadata": {
  "kernelspec": {
   "display_name": "Python 3",
   "language": "python",
   "name": "python3"
  },
  "language_info": {
   "codemirror_mode": {
    "name": "ipython",
    "version": 3
   },
   "file_extension": ".py",
   "mimetype": "text/x-python",
   "name": "python",
   "nbconvert_exporter": "python",
   "pygments_lexer": "ipython3",
   "version": "3.7.6"
  }
 },
 "nbformat": 4,
 "nbformat_minor": 4
}
