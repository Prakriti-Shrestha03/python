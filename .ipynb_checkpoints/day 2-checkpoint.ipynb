{
 "cells": [
  {
   "cell_type": "code",
   "execution_count": 4,
   "metadata": {},
   "outputs": [
    {
     "name": "stdout",
     "output_type": "stream",
     "text": [
      "l\n"
     ]
    }
   ],
   "source": [
    "a= \"Hello, World\"\n",
    "print(a[-2])"
   ]
  },
  {
   "cell_type": "code",
   "execution_count": 8,
   "metadata": {},
   "outputs": [
    {
     "name": "stdout",
     "output_type": "stream",
     "text": [
      "a\n",
      "p\n",
      "p\n",
      "l\n",
      "e\n",
      "1\n"
     ]
    }
   ],
   "source": [
    "for x in \"apple\":\n",
    "    print(x)\n",
    "print(len(x))"
   ]
  },
  {
   "cell_type": "code",
   "execution_count": 11,
   "metadata": {},
   "outputs": [
    {
     "name": "stdout",
     "output_type": "stream",
     "text": [
      "True\n"
     ]
    }
   ],
   "source": [
    "txt=\"there is a cat in the hat\"\n",
    "print(\"cat \" in txt)"
   ]
  },
  {
   "cell_type": "code",
   "execution_count": 16,
   "metadata": {},
   "outputs": [
    {
     "name": "stdout",
     "output_type": "stream",
     "text": [
      "llo\n",
      "Hello, W\n",
      "llo, World\n",
      "d\n",
      "\n",
      "Hello, \n"
     ]
    }
   ],
   "source": [
    "#slicing \n",
    "txt=\"Hello, World\"\n",
    "print(txt[2:5])\n",
    "print(txt[:8])\n",
    "print(txt[2:])\n",
    "print(txt[-1:])\n",
    "print(txt[-2:-5])\n",
    "print(txt[:-5])"
   ]
  },
  {
   "cell_type": "code",
   "execution_count": 27,
   "metadata": {},
   "outputs": [
    {
     "name": "stdout",
     "output_type": "stream",
     "text": [
      "HELLO, WORLD \n",
      "hello, world \n",
      "Hello, world \n",
      "Hello, World\n",
      "Hello, you \n",
      "['Hello', ' World ']\n"
     ]
    }
   ],
   "source": [
    "x=\"Hello, World \"\n",
    "print(x.upper())\n",
    "print(x.lower())\n",
    "print(x.capitalize())\n",
    "print(x.strip())#remove spaces after last word\n",
    "print(x.replace(\"World\",\"you\"))\n",
    "z=x.split(\",\")\n",
    "print(z)"
   ]
  },
  {
   "cell_type": "code",
   "execution_count": 28,
   "metadata": {},
   "outputs": [
    {
     "name": "stdout",
     "output_type": "stream",
     "text": [
      "enter your nameprakriti\n",
      "you have entered your name = prakriti\n",
      "you have entered your name = prakriti\n",
      "you have entered your name = prakriti\n"
     ]
    }
   ],
   "source": [
    "name=input(\"enter your name\")\n",
    "print(\"you have entered your name = \"+ name) #string concate\n",
    "print(f\"you have entered your name = {name}\") #format string\n",
    "print(\"you have entered your name = %s\"%(name)) #modulus string"
   ]
  },
  {
   "cell_type": "code",
   "execution_count": 30,
   "metadata": {},
   "outputs": [
    {
     "name": "stdout",
     "output_type": "stream",
     "text": [
      "enter a number20\n",
      "5.0\n"
     ]
    }
   ],
   "source": [
    "x=int(input(\"enter a number\"))\n",
    "a=x\n",
    "x=(((x*2)+10)/2)-a\n",
    "print(x)"
   ]
  },
  {
   "cell_type": "code",
   "execution_count": 31,
   "metadata": {},
   "outputs": [
    {
     "name": "stdout",
     "output_type": "stream",
     "text": [
      "enter the temperature in celsius16\n",
      "the temp in farenheit= 60.8\n"
     ]
    }
   ],
   "source": [
    "x=float(input(\"enter the temperature in celsius\"))\n",
    "x=(x*(9/5))+32\n",
    "print(f\"the temp in farenheit= {x}\")"
   ]
  },
  {
   "cell_type": "code",
   "execution_count": 36,
   "metadata": {},
   "outputs": [
    {
     "name": "stdout",
     "output_type": "stream",
     "text": [
      "enter measurement in feet5\n",
      "the measuremnt in inches=60\n",
      "enter measurement in meters3000\n",
      "the measuremnt in kilometer=3.0\n"
     ]
    }
   ],
   "source": [
    "x= int(input(\"enter measurement in feet\"))\n",
    "x=x*12\n",
    "print(f\"the measuremnt in inches={x}\")\n",
    "x= int(input(\"enter measurement in meters\"))\n",
    "x=x/1000\n",
    "print(f\"the measuremnt in kilometer={x}\")"
   ]
  },
  {
   "cell_type": "code",
   "execution_count": 38,
   "metadata": {},
   "outputs": [
    {
     "name": "stdout",
     "output_type": "stream",
     "text": [
      "enter the amount of money in npr200\n",
      "the amount in usd= 1.467997651203758\n"
     ]
    }
   ],
   "source": [
    "x=int(input(\"enter the amount of money in npr\"))\n",
    "x=x/136.24\n",
    "print(f\"the amount in usd= {x}\")"
   ]
  },
  {
   "cell_type": "code",
   "execution_count": 41,
   "metadata": {},
   "outputs": [
    {
     "name": "stdout",
     "output_type": "stream",
     "text": [
      "enter the price200\n",
      "enter the time in years2\n",
      "enter the rate in decimal instead of percentage0.04\n",
      "interest=16.0\n"
     ]
    }
   ],
   "source": [
    "p=float(input(\"enter the principal amount\"))\n",
    "t=float(input(\"enter the time in years\"))\n",
    "r=float(input(\"enter the rate in decimal instead of percentage\"))\n",
    "i=p*t*r\n",
    "print(f\"interest={i}\")"
   ]
  },
  {
   "cell_type": "code",
   "execution_count": 10,
   "metadata": {},
   "outputs": [
    {
     "name": "stdout",
     "output_type": "stream",
     "text": [
      "enter the principal amount2\n",
      "enter the time in years32\n",
      "enter the rate in decimal instead of percentage45\n",
      "enter the number of times interest is applied per year1\n",
      "interest=3.2305808136174017e+53\n"
     ]
    }
   ],
   "source": [
    "p=float(input(\"enter the principal amount\"))\n",
    "t=float(input(\"enter the time in years\"))\n",
    "r=float(input(\"enter the rate in decimal instead of percentage\"))\n",
    "n=float(input(\"enter the number of times interest is applied per year\"))\n",
    "i=p*(1+(r/n))**(n*t)\n",
    "print(f\"interest={i}\")"
   ]
  },
  {
   "cell_type": "code",
   "execution_count": 1,
   "metadata": {},
   "outputs": [
    {
     "name": "stdout",
     "output_type": "stream",
     "text": [
      "enter radius2\n",
      "Perimeter=12.566 Area=12.566\n",
      "enter three sides of triangle3\n",
      "enter three sides of triangle4\n",
      "enter three sides of triangle4\n",
      "enter base of triangle5\n",
      "enter height of triangle55\n",
      "Perimeter=11.0 Area=137.5\n",
      "enter length of rectangle6\n",
      "enter breadth of rectangle7\n",
      "Perimeter=26.0 Area=42.0\n"
     ]
    }
   ],
   "source": [
    "#circle\n",
    "r=float(input(\"enter radius\"))\n",
    "pi=3.1415\n",
    "peri=2*pi*r\n",
    "area=pi*r**2\n",
    "print(f\"Perimeter={peri} Area={area}\")\n",
    "#triangle\n",
    "a,b,c=float(input(\"enter three sides of triangle\")),float(input(\"enter three sides of triangle\")),float(input(\"enter three sides of triangle\"))\n",
    "l,h=float(input(\"enter base of triangle\")),float(input(\"enter height of triangle\"))\n",
    "peri=a+b+c\n",
    "area=(l*h)/2\n",
    "print(f\"Perimeter={peri} Area={area}\")\n",
    "#rectangle \n",
    "l,b=float(input(\"enter length of rectangle\")),float(input(\"enter breadth of rectangle\"))\n",
    "peri=2*(l+b)\n",
    "area=l*b\n",
    "print(f\"Perimeter={peri} Area={area}\")"
   ]
  },
  {
   "cell_type": "code",
   "execution_count": 5,
   "metadata": {},
   "outputs": [
    {
     "name": "stdout",
     "output_type": "stream",
     "text": [
      "enter a number3\n",
      "odd\n"
     ]
    }
   ],
   "source": [
    "x= int(input(\"enter a number\"))\n",
    "if (x%2==0):\n",
    "    print(\"even\")\n",
    "else:\n",
    "    print(\"odd\")\n",
    "    "
   ]
  },
  {
   "cell_type": "code",
   "execution_count": 24,
   "metadata": {},
   "outputs": [
    {
     "name": "stdout",
     "output_type": "stream",
     "text": [
      "enter a number9\n",
      "composite\n"
     ]
    }
   ],
   "source": [
    "x=int(input(\"enter a number\"))\n",
    "b=0\n",
    "for i in range(1,x+1):\n",
    "    if(x%i==0):\n",
    "        b+=1\n",
    "if(b>2):\n",
    "    print(\"composite\")\n",
    "else:\n",
    "    print(\"prime\")"
   ]
  },
  {
   "cell_type": "code",
   "execution_count": 11,
   "metadata": {},
   "outputs": [
    {
     "name": "stdout",
     "output_type": "stream",
     "text": [
      "enter a number50\n",
      "the number 50 is multiple of the following numbers\n",
      "1\n",
      "2\n",
      "5\n",
      "10\n",
      "25\n",
      "50\n"
     ]
    }
   ],
   "source": [
    "x=int(input(\"enter a number\"))\n",
    "print(f\"the number {x} is multiple of the following numbers\")\n",
    "for i in range(1,x+1):\n",
    "    if(x%i==0):\n",
    "        print(i)\n"
   ]
  },
  {
   "cell_type": "code",
   "execution_count": 13,
   "metadata": {},
   "outputs": [
    {
     "name": "stdout",
     "output_type": "stream",
     "text": [
      "enter a number4\n",
      "the number 4 is square of 2.0\n"
     ]
    }
   ],
   "source": [
    "x=int(input(\"enter a number\"))\n",
    "b=x**(1/2)\n",
    "if (b==int(b)):\n",
    "    print(f\"the number {x} is square of {b}\")\n",
    "else:\n",
    "    print(\"It is not a square of any whole number\")"
   ]
  },
  {
   "cell_type": "code",
   "execution_count": 14,
   "metadata": {},
   "outputs": [
    {
     "ename": "SyntaxError",
     "evalue": "unexpected EOF while parsing (<ipython-input-14-4f67a1fa0574>, line 2)",
     "output_type": "error",
     "traceback": [
      "\u001b[1;36m  File \u001b[1;32m\"<ipython-input-14-4f67a1fa0574>\"\u001b[1;36m, line \u001b[1;32m2\u001b[0m\n\u001b[1;33m    if i*i==x:\u001b[0m\n\u001b[1;37m              ^\u001b[0m\n\u001b[1;31mSyntaxError\u001b[0m\u001b[1;31m:\u001b[0m unexpected EOF while parsing\n"
     ]
    }
   ],
   "source": [
    "x=int(input(\"enter a number\"))\n",
    "for i in range(2,x):\n",
    "    if i*i==x:\n",
    "        print(f\"{x} is the square of {i}\")\n",
    "        break\n",
    "else:\n",
    "    print(f\"{x} is not a square number\")"
   ]
  },
  {
   "cell_type": "code",
   "execution_count": null,
   "metadata": {},
   "outputs": [],
   "source": []
  }
 ],
 "metadata": {
  "kernelspec": {
   "display_name": "Python 3",
   "language": "python",
   "name": "python3"
  },
  "language_info": {
   "codemirror_mode": {
    "name": "ipython",
    "version": 3
   },
   "file_extension": ".py",
   "mimetype": "text/x-python",
   "name": "python",
   "nbconvert_exporter": "python",
   "pygments_lexer": "ipython3",
   "version": "3.7.6"
  }
 },
 "nbformat": 4,
 "nbformat_minor": 4
}
