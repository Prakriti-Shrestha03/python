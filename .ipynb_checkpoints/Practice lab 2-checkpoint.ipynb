{
 "cells": [
  {
   "cell_type": "code",
   "execution_count": 4,
   "metadata": {},
   "outputs": [
    {
     "name": "stdout",
     "output_type": "stream",
     "text": [
      "My name is Prakriti and my age is 20\n"
     ]
    }
   ],
   "source": [
    "class MyClass:\n",
    "    def __init__(self,name,age):\n",
    "        self.name=name\n",
    "        self.age=age\n",
    "\n",
    "p1=MyClass(\"Prakriti\",20)\n",
    "print(f\"My name is {p1.name} and my age is {p1.age}\")"
   ]
  },
  {
   "cell_type": "code",
   "execution_count": 6,
   "metadata": {},
   "outputs": [
    {
     "name": "stdout",
     "output_type": "stream",
     "text": [
      "The students name is Ram Shrestha who is studying Math\n"
     ]
    }
   ],
   "source": [
    "class Person:\n",
    "    def __init__(self,fname,lname):\n",
    "        self.fname=fname\n",
    "        self.lname=lname\n",
    "class Student(Person):\n",
    "    def __init__(self,fname,lname,subject):\n",
    "        super().__init__(fname,lname)\n",
    "        self.subject=subject\n",
    "    def print_name(self):\n",
    "        print(f\"The students name is {self.fname} {self.lname} who is studying {self.subject}\")\n",
    "        \n",
    "y=Student(\"Ram\",\"Shrestha\",\"Math\")\n",
    "y.print_name()"
   ]
  },
  {
   "cell_type": "code",
   "execution_count": 7,
   "metadata": {},
   "outputs": [
    {
     "name": "stdout",
     "output_type": "stream",
     "text": [
      "<list_iterator object at 0x000001C339293488>\n",
      "apple\n",
      "banana\n",
      "mango\n"
     ]
    }
   ],
   "source": [
    "x=[\"apple\",\"banana\",\"mango\"]\n",
    "myiter=iter(x)\n",
    "print(myiter)\n",
    "print(next(myiter))\n",
    "print(next(myiter))\n",
    "print(next(myiter))"
   ]
  },
  {
   "cell_type": "code",
   "execution_count": 10,
   "metadata": {},
   "outputs": [
    {
     "name": "stdout",
     "output_type": "stream",
     "text": [
      "2\n",
      "4\n",
      "6\n",
      "8\n",
      "10\n"
     ]
    }
   ],
   "source": [
    "class MyNumber:\n",
    "    def __iter__(self):\n",
    "        self.a=2\n",
    "        return self\n",
    "    def __next__(self):\n",
    "        if self.a<=10:\n",
    "            x=self.a\n",
    "            self.a+=2\n",
    "            return x\n",
    "        else:\n",
    "            raise StopIteration \n",
    "\n",
    "my_iter=iter(MyNumber())\n",
    "for i in my_iter:\n",
    "    print(i)"
   ]
  },
  {
   "cell_type": "code",
   "execution_count": 11,
   "metadata": {},
   "outputs": [
    {
     "name": "stdout",
     "output_type": "stream",
     "text": [
      "the title of the employee is HOD and the subject they teach is Simulation\n"
     ]
    }
   ],
   "source": [
    "class Dept:\n",
    "    def __init__(self,title):\n",
    "        self.title = title\n",
    "class Subject(Dept):\n",
    "    def __init__(self,title,subject):\n",
    "        super().__init__(title)\n",
    "        self.subject=subject\n",
    "    def print_(self):\n",
    "        print(f\"the title of the employee is {self.title} and the subject they teach is {self.subject}\")\n",
    "y=Subject(\"HOD\",\"Simulation\")\n",
    "y.print_()"
   ]
  },
  {
   "cell_type": "code",
   "execution_count": 13,
   "metadata": {},
   "outputs": [
    {
     "name": "stdout",
     "output_type": "stream",
     "text": [
      "Error\n"
     ]
    }
   ],
   "source": [
    "try:\n",
    "    print(h)\n",
    "except:\n",
    "    print(\"Error\")\n",
    "finally:\n",
    "    print(\"All Done\")"
   ]
  }
 ],
 "metadata": {
  "kernelspec": {
   "display_name": "Python 3",
   "language": "python",
   "name": "python3"
  },
  "language_info": {
   "codemirror_mode": {
    "name": "ipython",
    "version": 3
   },
   "file_extension": ".py",
   "mimetype": "text/x-python",
   "name": "python",
   "nbconvert_exporter": "python",
   "pygments_lexer": "ipython3",
   "version": "3.7.6"
  }
 },
 "nbformat": 4,
 "nbformat_minor": 4
}
