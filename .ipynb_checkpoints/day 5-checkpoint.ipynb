{
 "cells": [
  {
   "cell_type": "code",
   "execution_count": 2,
   "metadata": {},
   "outputs": [],
   "source": [
    "def batteries():\n",
    "    battery=[10,20,15,5,90,45]\n",
    "    x=20 #threshold\n",
    "    b=0 #useable battery power\n",
    "    c=0 #counter\n",
    "    for i in battery:\n",
    "        if i>=x:\n",
    "            b+= i\n",
    "            c+=1\n",
    "    print(f\"The batteries you have with the following percentage={battery}\")\n",
    "    for i in range(0,3):\n",
    "        x=int(input(\"enter the number useable battery \"))\n",
    "        y=int(input(\"enter the number of useable battery power\"))\n",
    "        if (x==b and y==c):\n",
    "            print(\"Mission Complete\")\n",
    "            print(\"Your next message is to decode the alien message\")\n",
    "            message_decode()\n",
    "            break\n",
    "        else:\n",
    "            print(\"Try Again\")\n",
    "    else:\n",
    "        print(\"Mission Fail\")"
   ]
  },
  {
   "cell_type": "code",
   "execution_count": 3,
   "metadata": {},
   "outputs": [],
   "source": [
    "def message_decode():\n",
    "    message=\"? uoy era woh .dlrow ,olleh\"\n",
    "    print(f\"The message you got:{message}\")\n",
    "    decoded_message=message[::-1]\n",
    "    for i in range(0,3):\n",
    "        x=input(\"enter the decode message\")\n",
    "        if (x==decoded_message):\n",
    "            print(\"Mission Complete\")\n",
    "            print(\"Your mission is to share the remainng food you have between the aliens equally while keeping tab of the remaining code\")\n",
    "            food_game()\n",
    "            break\n",
    "        else:\n",
    "            print(\"Try Again\")\n",
    "    else:\n",
    "        print(\"Mission Fail\")"
   ]
  },
  {
   "cell_type": "code",
   "execution_count": 4,
   "metadata": {},
   "outputs": [],
   "source": [
    "def food_game():\n",
    "    food=[\"apple\",\"banana\",\"pizza\",\"burger\",\"chicken\",\"rice\",\"milkshake\",\"mango\",\"thukpa\",\"chowmein\",\"biryani\"]\n",
    "    people=3\n",
    "    print(f\"The food you have = {food} and the number of crew ={3}\")\n",
    "    each_crew_gets=len(food)//people\n",
    "    remaining_food=len(food)%people\n",
    "    for i in range(0,3):\n",
    "        x=int(input(\"enter the number of food each crew will get\"))\n",
    "        y=int(input(\"enter the number of remaing food\"))\n",
    "        if (x==each_crew_gets and y==remaining_food):\n",
    "            print(\"Mission Complete\")\n",
    "            print(\"Congrats on completing your mission\")\n",
    "            break\n",
    "        else:\n",
    "            print(\"Try Again\")\n",
    "    else:\n",
    "        print(\"Mission Fail\")"
   ]
  },
  {
   "cell_type": "code",
   "execution_count": null,
   "metadata": {},
   "outputs": [
    {
     "name": "stdout",
     "output_type": "stream",
     "text": [
      "Welcome to alien attack game\n",
      "Remember you cannot proceed to the next level without completing the existing mission\n",
      "Game Starting...\n",
      "Your first mission is to count how many batteries is required to power up your aircraft. \n",
      "    You need batteries with atleast 20% charge.\n",
      "    Also calculate the sum percentage of the batteries.\n",
      "The batteries you have with the following percentage=[10, 20, 15, 5, 90, 45]\n"
     ]
    }
   ],
   "source": [
    "def alien_attack_game():\n",
    "    print(\"Welcome to alien attack game\")\n",
    "    print(\"Remember you cannot proceed to the next level without completing the existing mission\")\n",
    "    print(\"Game Starting...\")\n",
    "    print(\"\"\"Your first mission is to count how many batteries is required to power up your aircraft. \n",
    "    You need batteries with atleast 20% charge.\n",
    "    Also calculate the sum percentage of the batteries.\"\"\")\n",
    "    batteries()\n",
    "    \n",
    "alien_attack_game()"
   ]
  }
 ],
 "metadata": {
  "kernelspec": {
   "display_name": "Python 3",
   "language": "python",
   "name": "python3"
  },
  "language_info": {
   "codemirror_mode": {
    "name": "ipython",
    "version": 3
   },
   "file_extension": ".py",
   "mimetype": "text/x-python",
   "name": "python",
   "nbconvert_exporter": "python",
   "pygments_lexer": "ipython3",
   "version": "3.7.6"
  }
 },
 "nbformat": 4,
 "nbformat_minor": 4
}
