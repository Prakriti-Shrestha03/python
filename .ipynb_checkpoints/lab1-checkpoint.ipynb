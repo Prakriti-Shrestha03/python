{
 "cells": [
  {
   "cell_type": "code",
   "execution_count": 1,
   "metadata": {},
   "outputs": [
    {
     "name": "stdout",
     "output_type": "stream",
     "text": [
      "['apple', 'banana', 'mango', 'orange']\n"
     ]
    }
   ],
   "source": [
    "list_one=[\"apple\",\"banana\",\"mango\"]\n",
    "list_one.append(\"orange\")\n",
    "print(list_one)"
   ]
  },
  {
   "cell_type": "code",
   "execution_count": 3,
   "metadata": {},
   "outputs": [
    {
     "name": "stdout",
     "output_type": "stream",
     "text": [
      "['cat', 'dog', 'deer', 'rat', 'horse', 'rabbit']\n"
     ]
    }
   ],
   "source": [
    "list_one=[\"cat\",\"dog\",\"deer\"]\n",
    "list_two=[\"rat\",\"horse\",\"rabbit\"]\n",
    "list_one.extend(list_two)\n",
    "print(list_one)"
   ]
  },
  {
   "cell_type": "code",
   "execution_count": 5,
   "metadata": {},
   "outputs": [
    {
     "name": "stdout",
     "output_type": "stream",
     "text": [
      "['cat', 'horse', 'dog', 'rat']\n"
     ]
    }
   ],
   "source": [
    "list_one=[\"cat\",\"dog\",\"rat\"]\n",
    "list_one.insert(1,\"horse\")\n",
    "print(list_one)"
   ]
  },
  {
   "cell_type": "code",
   "execution_count": 6,
   "metadata": {},
   "outputs": [
    {
     "name": "stdout",
     "output_type": "stream",
     "text": [
      "['cat', 'horse', 'rat']\n"
     ]
    }
   ],
   "source": [
    "list_one=[\"cat\",\"dog\",\"rat\"]\n",
    "list_one[1]=\"horse\"\n",
    "print(list_one)"
   ]
  },
  {
   "cell_type": "code",
   "execution_count": 7,
   "metadata": {},
   "outputs": [
    {
     "name": "stdout",
     "output_type": "stream",
     "text": [
      "[0, 1, 2, 4, 8, 9]\n",
      "[9, 8, 4, 2, 1, 0]\n"
     ]
    }
   ],
   "source": [
    "list_one=[1,0,8,4,2,9]\n",
    "list_one.sort()\n",
    "print(list_one)\n",
    "list_one.sort(reverse=True)\n",
    "print(list_one)"
   ]
  },
  {
   "cell_type": "code",
   "execution_count": 10,
   "metadata": {},
   "outputs": [
    {
     "ename": "SyntaxError",
     "evalue": "invalid syntax (<ipython-input-10-5aae2271e297>, line 4)",
     "output_type": "error",
     "traceback": [
      "\u001b[1;36m  File \u001b[1;32m\"<ipython-input-10-5aae2271e297>\"\u001b[1;36m, line \u001b[1;32m4\u001b[0m\n\u001b[1;33m    x= myFunc(5S)\u001b[0m\n\u001b[1;37m               ^\u001b[0m\n\u001b[1;31mSyntaxError\u001b[0m\u001b[1;31m:\u001b[0m invalid syntax\n"
     ]
    }
   ],
   "source": [
    "def myFunc(n):\n",
    "    return lambda a: a-n\n",
    "\n",
    "x= myFunc(5)\n",
    "print(x(10))"
   ]
  },
  {
   "cell_type": "code",
   "execution_count": null,
   "metadata": {},
   "outputs": [],
   "source": []
  }
 ],
 "metadata": {
  "kernelspec": {
   "display_name": "Python 3",
   "language": "python",
   "name": "python3"
  },
  "language_info": {
   "codemirror_mode": {
    "name": "ipython",
    "version": 3
   },
   "file_extension": ".py",
   "mimetype": "text/x-python",
   "name": "python",
   "nbconvert_exporter": "python",
   "pygments_lexer": "ipython3",
   "version": "3.7.6"
  }
 },
 "nbformat": 4,
 "nbformat_minor": 4
}
