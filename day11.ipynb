{
 "cells": [
  {
   "cell_type": "code",
   "execution_count": 3,
   "metadata": {},
   "outputs": [
    {
     "name": "stdout",
     "output_type": "stream",
     "text": [
      "Word Frequencies:\n",
      "python : 2\n",
      "is : 2\n",
      "an : 1\n",
      "amazing : 1\n",
      "programming : 1\n",
      "language. : 1\n",
      "fun : 1\n",
      "to : 2\n",
      "learn : 1\n",
      "and : 1\n",
      "powerful : 1\n",
      "use : 1\n"
     ]
    }
   ],
   "source": [
    "from collections import Counter\n",
    "text = \"\"\"Python is an amazing programming language. Python is fun to learn and powerful to use\"\"\"\n",
    "\n",
    "words= text.lower().split()\n",
    "word_count=Counter(words)\n",
    "\n",
    "print(\"Word Frequencies:\")\n",
    "for word, count in word_count.items():\n",
    "    print(f\"{word} : {count}\")"
   ]
  },
  {
   "cell_type": "code",
   "execution_count": 6,
   "metadata": {},
   "outputs": [
    {
     "name": "stdout",
     "output_type": "stream",
     "text": [
      "Processing Tasks:\n",
      "Tasks 1:Clean the room\n",
      "Task 2: Write Python code\n",
      "Task 3: Read a book\n"
     ]
    }
   ],
   "source": [
    "from queue import Queue\n",
    "\n",
    "task_queue=Queue()\n",
    "\n",
    "tasks=[\"Tasks 1:Clean the room\",\"Task 2: Write Python code\",\"Task 3: Read a book\"]\n",
    "for task in tasks:\n",
    "    task_queue.put(task)\n",
    "    \n",
    "print(\"Processing Tasks:\")\n",
    "while not task_queue.empty():\n",
    "    print(task_queue.get())"
   ]
  },
  {
   "cell_type": "code",
   "execution_count": 7,
   "metadata": {},
   "outputs": [
    {
     "name": "stdout",
     "output_type": "stream",
     "text": [
      "Player 1's hand\n",
      "['Ace of Spades', '4 of Clubs', '10 of Diamonds']\n",
      "Player 2's hand\n",
      "['2 of Hearts', '5 of Hearts', '3 of Spades']\n"
     ]
    }
   ],
   "source": [
    "from collections import deque\n",
    "import random\n",
    "\n",
    "deck=deque([f\"{value} of {suit}\" for value in \n",
    "            [\"2\",\"3\",\"4\",\"5\",\"6\",\"7\",\"8\",\"9\",\"10\",\"Jack\",\"Queen\",\"King\",\"Ace\"]\n",
    "            for suit in [\"Hearts\",\"Diamonds\",\"Clubs\",\"Spades\"]])\n",
    "            \n",
    "random.shuffle(deck)\n",
    "player1=[]\n",
    "player2=[]\n",
    "\n",
    "for _ in range(3):\n",
    "    player1.append(deck.popleft())\n",
    "    player2.append(deck.popleft())\n",
    "    \n",
    "print(\"Player 1's hand\")\n",
    "print(player1)\n",
    "print(\"Player 2's hand\")\n",
    "print(player2)"
   ]
  },
  {
   "cell_type": "code",
   "execution_count": 16,
   "metadata": {},
   "outputs": [
    {
     "name": "stdout",
     "output_type": "stream",
     "text": [
      "Do you wan to add items?yes\n",
      "Enter the itemEgg\n",
      "Do you wan to add items?yes\n",
      "Enter the itemCheese\n",
      "Do you wan to add items?yes\n",
      "Enter the itemRice\n",
      "Do you wan to add items?yes\n",
      "Enter the itemChicken \n",
      "Do you wan to add items?no\n",
      "1.Egg\n",
      "2.Cheese\n",
      "3.Rice\n",
      "4.Chicken \n",
      "Enter the item you want to deleteRice\n",
      "Enter the item you wan to updateEgg\n",
      "Enter new ItemDuck Egg\n",
      "1.Duck Egg\n",
      "2.Cheese\n",
      "4.Chicken \n"
     ]
    }
   ],
   "source": [
    "from collections import OrderedDict\n",
    "grocery_list=OrderedDict()\n",
    "\n",
    "def AddItem():\n",
    "    y=0\n",
    "    while True:\n",
    "        x=input(\"Do you wan to add items?\").lower()\n",
    "        if x==\"yes\":\n",
    "            z=input(\"Enter the item\")\n",
    "            grocery_list[y]=z\n",
    "            y+=1\n",
    "        elif x==\"no\":\n",
    "            break\n",
    "            \n",
    "def DelItem():\n",
    "    x=input(\"Enter the item you want to delete\")\n",
    "    for key, value in grocery_list.items():\n",
    "        if value==x:\n",
    "            index=key\n",
    "            \n",
    "    grocery_list.pop(index)\n",
    "        \n",
    "def UpdateItem():\n",
    "    x=input(\"Enter the item you wan to update\")\n",
    "    for key, items in grocery_list.items():\n",
    "        if items==x:\n",
    "            a=key\n",
    "            \n",
    "    y=input(\"Enter new Item\")\n",
    "    grocery_list[a]=y\n",
    "    \n",
    "def PrintItem():\n",
    "    for key, value in grocery_list.items():\n",
    "        print(f\"{key+1}.{value}\")\n",
    "        \n",
    "AddItem()\n",
    "PrintItem()\n",
    "DelItem()\n",
    "UpdateItem()\n",
    "PrintItem()"
   ]
  }
 ],
 "metadata": {
  "kernelspec": {
   "display_name": "Python 3",
   "language": "python",
   "name": "python3"
  },
  "language_info": {
   "codemirror_mode": {
    "name": "ipython",
    "version": 3
   },
   "file_extension": ".py",
   "mimetype": "text/x-python",
   "name": "python",
   "nbconvert_exporter": "python",
   "pygments_lexer": "ipython3",
   "version": "3.7.6"
  }
 },
 "nbformat": 4,
 "nbformat_minor": 4
}
