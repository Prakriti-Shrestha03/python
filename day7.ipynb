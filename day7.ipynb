{
 "cells": [
  {
   "cell_type": "code",
   "execution_count": 1,
   "metadata": {},
   "outputs": [
    {
     "name": "stdout",
     "output_type": "stream",
     "text": [
      "Prakriti\n",
      "20\n"
     ]
    }
   ],
   "source": [
    "class Person:\n",
    "    def __init__(self,name,age):\n",
    "        self.name=name\n",
    "        self.age=age\n",
    "        \n",
    "prakriti=Person(\"Prakriti\",20)\n",
    "print(prakriti.name)\n",
    "print(prakriti.age)"
   ]
  },
  {
   "cell_type": "code",
   "execution_count": 2,
   "metadata": {},
   "outputs": [
    {
     "name": "stdout",
     "output_type": "stream",
     "text": [
      "Phone created\n",
      "A53-black\n"
     ]
    }
   ],
   "source": [
    "class PhoneFactory:\n",
    "    model:None\n",
    "    color:None\n",
    "    is_android:None\n",
    "\n",
    "    def __init__(self,model,color,is_android):\n",
    "        self.model=model\n",
    "        self.color=color\n",
    "        self.is_android=is_android\n",
    "        print(\"Phone created\")\n",
    "        \n",
    "    def __str__(self):\n",
    "        return f\"{self.model}-{self.color}\"\n",
    "    \n",
    "    def check_os(self):\n",
    "        if self.is_android:\n",
    "            print(\"Android\")\n",
    "        else:\n",
    "            print(\"iOS\")\n",
    "\n",
    "oppo_phone_1=PhoneFactory(\"A53\",\"black\",True)\n",
    "print(oppo_phone_1)"
   ]
  },
  {
   "cell_type": "code",
   "execution_count": 5,
   "metadata": {},
   "outputs": [
    {
     "name": "stdout",
     "output_type": "stream",
     "text": [
      "Tasks Do assignment added to the list\n",
      "Tasks Do Homework added to the list\n",
      "Tasks Do labs added to the list\n",
      "Your Todo List:\n",
      "1.Do assignment\n",
      "2.Do Homework\n",
      "3.Do labs\n",
      "Tasks Do Homework deleted from the list\n",
      "Your Todo List:\n",
      "1.Do assignment\n",
      "2.Do crypto labs\n"
     ]
    }
   ],
   "source": [
    "#Todo list using class and object\n",
    "class TodoList:\n",
    "    \n",
    "  \n",
    "    def __init__(self):\n",
    "          self.TODO_FILE=open(\"todolist.txt\",\"x\")\n",
    "        \n",
    "    def add_task(self,task):\n",
    "        open(self.TODO_FILE,'a') as File:\n",
    "            File.write(task+\"\\n\")\n",
    "            print(f\"Tasks {task} added to the list\")\n",
    "    \n",
    "    def remove_task(self,task):\n",
    "        if task in self.TODO_FILE:\n",
    "            line=[]\n",
    "            open(self.TODO_FILE,'w') as File:\n",
    "            for number,tasks in enumerate(self.TODO_FILE):\n",
    "                if tasks==task:\n",
    "                    index=number\n",
    "            for number in enumerate(self.TODO_FILE):\n",
    "                if index==number:\n",
    "                    File.write(line)   \n",
    "        else:\n",
    "            print(\"The task is not in the list\")\n",
    "    \n",
    "    def update_task(self,old_task,new_task):\n",
    "        if old_task in self.tasks:\n",
    "            index=self.tasks.index(old_task)\n",
    "            self.tasks[index]=new_task\n",
    "        else:\n",
    "            print(\"No such tasks exists to update\")\n",
    "   \n",
    "    def show_task(self):\n",
    "        if self.tasks:\n",
    "            print(\"Your Todo List:\")\n",
    "            for index, task in enumerate(self.tasks):\n",
    "                print(f\"{index+1}.{task}\")\n",
    "        else:\n",
    "                print(\"Your Todo list is empty\")\n",
    "                \n",
    "todo_list=TodoList()\n",
    "todo_list.add_task(\"Do assignment\")\n",
    "todo_list.add_task(\"Do Homework\")\n",
    "todo_list.add_task(\"Do labs\")\n",
    "todo_list.show_task()\n",
    "todo_list.remove_task(\"Do Homework\")\n",
    "todo_list.update_task(\"Do labs\",\"Do crypto labs\")\n",
    "todo_list.show_task()"
   ]
  },
  {
   "cell_type": "code",
   "execution_count": 22,
   "metadata": {},
   "outputs": [
    {
     "name": "stdout",
     "output_type": "stream",
     "text": [
      "Thank you for the\n",
      "music Welcome to the\n"
     ]
    }
   ],
   "source": [
    "txt = \"Thank you for the music\\nWelcome to the jungle\"\n",
    "\n",
    "x = txt.split()\n",
    "for i in range(0,len(x),4):\n",
    "    if i+3<len(x):\n",
    "        print(x[i],x[i+1],x[i+2],x[i+3])"
   ]
  },
  {
   "cell_type": "code",
   "execution_count": 24,
   "metadata": {},
   "outputs": [
    {
     "name": "stdout",
     "output_type": "stream",
     "text": [
      "10\n"
     ]
    }
   ],
   "source": [
    "x=\"5\"\n",
    "x=int(x)\n",
    "x+=5\n",
    "print(x)"
   ]
  }
 ],
 "metadata": {
  "kernelspec": {
   "display_name": "Python 3",
   "language": "python",
   "name": "python3"
  },
  "language_info": {
   "codemirror_mode": {
    "name": "ipython",
    "version": 3
   },
   "file_extension": ".py",
   "mimetype": "text/x-python",
   "name": "python",
   "nbconvert_exporter": "python",
   "pygments_lexer": "ipython3",
   "version": "3.7.6"
  }
 },
 "nbformat": 4,
 "nbformat_minor": 4
}
