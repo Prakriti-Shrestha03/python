{
 "cells": [
  {
   "cell_type": "code",
   "execution_count": 8,
   "metadata": {},
   "outputs": [
    {
     "name": "stdout",
     "output_type": "stream",
     "text": [
      "Vector:(4, 6)\n"
     ]
    }
   ],
   "source": [
    "class Vector:\n",
    "    def __init__(self,x,y):\n",
    "        self.x=x\n",
    "        self.y=y\n",
    "        \n",
    "    def __add__(self,other):\n",
    "        return Vector(self.x+other.x,self.y+other.y)\n",
    "    \n",
    "    def __sub__(self,other):\n",
    "        return Vector(self.x-other.x,self.y-other.y)\n",
    "    \n",
    "    def __mul__(self,scalar):\n",
    "        return Vector(self.x*scalar,self.y*scalar)\n",
    "    \n",
    "    def __str__(self):\n",
    "        return f\"Vector:({self.x}, {self.y})\"\n",
    "    \n",
    "v1=Vector(1,2)\n",
    "v2=Vector(3,4)\n",
    "v3=Vector(3,4)\n",
    "v4=Vector(3,4)\n",
    "result_vector=v1+v2\n",
    "print(result_vector)"
   ]
  },
  {
   "cell_type": "code",
   "execution_count": 24,
   "metadata": {},
   "outputs": [
    {
     "name": "stdout",
     "output_type": "stream",
     "text": [
      "Vector: (4,6)\n",
      "Vector: (24,48)\n"
     ]
    }
   ],
   "source": [
    "class Vector:\n",
    "    def __init__(self,x,y):\n",
    "        self.x=x\n",
    "        self.y=y\n",
    "        \n",
    "    def __add__(self,*others):\n",
    "        sum_vector=Vector(self.x,self.y)\n",
    "        for other in others:\n",
    "            sum_vector= Vector(sum_vector.x+other.x,sum_vector.y+other.y)\n",
    "        \n",
    "        return sum_vector \n",
    "    \n",
    "    def __sub__(self,*others):\n",
    "        sub_vector=Vector(self.x,self.y)\n",
    "        for other in others:\n",
    "            sub_vector= Vector(sub_vector.x-other.x,sub_vector.y-other.y)\n",
    "        \n",
    "        return sub_vector \n",
    "    \n",
    "    def __mul__(self,*others):\n",
    "        mul_vector=Vector(self.x,self.y)\n",
    "        for other in others:\n",
    "            mul_vector= Vector(mul_vector.x*other,mul_vector.y*other)\n",
    "        \n",
    "        return mul_vector \n",
    "    \n",
    "    def __str__(self):\n",
    "        return f\"Vector: ({self.x},{self.y})\"\n",
    "    \n",
    "v1=Vector(1,2)\n",
    "v2=Vector(3,4)\n",
    "v3=Vector(3,4)\n",
    "v4=Vector(3,4)\n",
    "result_vector=v1+v2+v3-v4\n",
    "result=v1*2*3*4\n",
    "print(result_vector)\n",
    "print(result)"
   ]
  },
  {
   "cell_type": "code",
   "execution_count": 25,
   "metadata": {},
   "outputs": [
    {
     "name": "stdout",
     "output_type": "stream",
     "text": [
      "Exeception: division by zero\n"
     ]
    }
   ],
   "source": [
    "try:\n",
    "    result=10/0\n",
    "except ZeroDivisionError as e:\n",
    "    print(\"Exeception:\",e)\n",
    "    "
   ]
  },
  {
   "cell_type": "code",
   "execution_count": 26,
   "metadata": {},
   "outputs": [
    {
     "name": "stdout",
     "output_type": "stream",
     "text": [
      "Exception: list index out of range\n"
     ]
    }
   ],
   "source": [
    "try:\n",
    "    my_list=[1,2,3]\n",
    "    print(my_list[5])\n",
    "except IndexError as e:\n",
    "    print(\"Exception:\",e)\n",
    "\n",
    "    "
   ]
  },
  {
   "cell_type": "code",
   "execution_count": 29,
   "metadata": {},
   "outputs": [
    {
     "name": "stdout",
     "output_type": "stream",
     "text": [
      "Enter a balance to withdraw:50\n",
      "You have no money to withdraw\n"
     ]
    }
   ],
   "source": [
    "class NoMoneyException(Exception):\n",
    "    pass\n",
    "\n",
    "class OutOfBudget(Exception):\n",
    "    pass\n",
    "\n",
    "balance=int(input(\"Enter a balance to withdraw:\"))\n",
    "try:\n",
    "    if balance<1000:\n",
    "        raise NoMoneyException(\"You have no money to withdraw\")\n",
    "    elif balance>10000:\n",
    "        raise OutOfBudget(\"You have reached your limit\")\n",
    "except Exception as error:\n",
    "    print((error))"
   ]
  },
  {
   "cell_type": "code",
   "execution_count": null,
   "metadata": {},
   "outputs": [],
   "source": []
  }
 ],
 "metadata": {
  "kernelspec": {
   "display_name": "Python 3",
   "language": "python",
   "name": "python3"
  },
  "language_info": {
   "codemirror_mode": {
    "name": "ipython",
    "version": 3
   },
   "file_extension": ".py",
   "mimetype": "text/x-python",
   "name": "python",
   "nbconvert_exporter": "python",
   "pygments_lexer": "ipython3",
   "version": "3.7.6"
  }
 },
 "nbformat": 4,
 "nbformat_minor": 4
}
