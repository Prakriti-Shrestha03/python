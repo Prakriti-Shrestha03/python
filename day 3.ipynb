{
 "cells": [
  {
   "cell_type": "code",
   "execution_count": 2,
   "metadata": {},
   "outputs": [
    {
     "name": "stdout",
     "output_type": "stream",
     "text": [
      "enter a number99\n",
      "Lower\n",
      "enter a number50\n",
      "Higher\n",
      "enter a number70\n",
      "Lower\n",
      "enter a number60\n",
      "Higher\n",
      "enter a number65\n",
      "Lower\n",
      "enter a number64\n",
      "Correct\n"
     ]
    }
   ],
   "source": [
    "#number guessing game\n",
    "import random\n",
    "random_num=random.randint(1,100)\n",
    "while True:\n",
    "    user_guess=int(input(\"enter a number\"))\n",
    "    if user_guess== random_num:\n",
    "        print(\"Correct\")\n",
    "        break\n",
    "    elif user_guess<random_num:\n",
    "        print(\"Higher\")\n",
    "    else:\n",
    "        print(\"Lower\")"
   ]
  }
 ],
 "metadata": {
  "kernelspec": {
   "display_name": "Python 3",
   "language": "python",
   "name": "python3"
  },
  "language_info": {
   "codemirror_mode": {
    "name": "ipython",
    "version": 3
   },
   "file_extension": ".py",
   "mimetype": "text/x-python",
   "name": "python",
   "nbconvert_exporter": "python",
   "pygments_lexer": "ipython3",
   "version": "3.7.6"
  }
 },
 "nbformat": 4,
 "nbformat_minor": 4
}
