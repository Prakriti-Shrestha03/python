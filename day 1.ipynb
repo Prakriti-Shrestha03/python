{
 "cells": [
  {
   "cell_type": "code",
   "execution_count": 2,
   "metadata": {},
   "outputs": [
    {
     "name": "stdout",
     "output_type": "stream",
     "text": [
      "3.7.6 (default, Jan  8 2020, 20:23:39) [MSC v.1916 64 bit (AMD64)]\n"
     ]
    }
   ],
   "source": [
    "import sys \n",
    "print(sys.version)"
   ]
  },
  {
   "cell_type": "code",
   "execution_count": 5,
   "metadata": {},
   "outputs": [
    {
     "name": "stdout",
     "output_type": "stream",
     "text": [
      "hello World\n",
      "5 is greater than 2\n",
      "2 is smaller than 3\n"
     ]
    }
   ],
   "source": [
    "print(\"hello World\")\n",
    "\n",
    "if (5>2):\n",
    "    print(\"5 is greater than 2\")\n",
    "    print (\"2 is smaller than 3\")"
   ]
  },
  {
   "cell_type": "code",
   "execution_count": 14,
   "metadata": {},
   "outputs": [
    {
     "name": "stdout",
     "output_type": "stream",
     "text": [
      "140734593868304\n",
      "2689918732528\n",
      "<class 'int'>\n",
      "<class 'str'>\n"
     ]
    }
   ],
   "source": [
    "x= 5\n",
    "y = \"hi\"\n",
    "print(id(x))\n",
    "print(id(y))\n",
    "print(type(x))\n",
    "print(type(y))\n",
    "#hmmm "
   ]
  },
  {
   "cell_type": "code",
   "execution_count": 19,
   "metadata": {},
   "outputs": [
    {
     "name": "stdout",
     "output_type": "stream",
     "text": [
      "\n",
      "hello world\n",
      "what's up \n",
      "\n"
     ]
    }
   ],
   "source": [
    "mail =\"\"\"\n",
    "hello world\n",
    "what's up \n",
    "\"\"\"\n",
    "print(mail) #multi line code "
   ]
  },
  {
   "cell_type": "code",
   "execution_count": 22,
   "metadata": {},
   "outputs": [
    {
     "name": "stdout",
     "output_type": "stream",
     "text": [
      "<class 'float'>\n",
      "7\n",
      "<class 'int'>\n"
     ]
    }
   ],
   "source": [
    "#type casting\n",
    "d= 7.5\n",
    "print(type(d))\n",
    "d= int(d)\n",
    "print(d)\n",
    "print(type(d))"
   ]
  },
  {
   "cell_type": "code",
   "execution_count": 24,
   "metadata": {},
   "outputs": [
    {
     "name": "stdout",
     "output_type": "stream",
     "text": [
      "greater\n"
     ]
    }
   ],
   "source": [
    "a= 3\n",
    "b=\"2\"\n",
    "if a>int(b):\n",
    "    print(\"greater\")"
   ]
  },
  {
   "cell_type": "code",
   "execution_count": 25,
   "metadata": {},
   "outputs": [
    {
     "name": "stdout",
     "output_type": "stream",
     "text": [
      "orange banana mango\n"
     ]
    }
   ],
   "source": [
    "x,y,z=\"orange\",\"banana\",\"mango\"\n",
    "print(x,y,z)"
   ]
  },
  {
   "cell_type": "code",
   "execution_count": 34,
   "metadata": {},
   "outputs": [
    {
     "name": "stdout",
     "output_type": "stream",
     "text": [
      "70\n"
     ]
    }
   ],
   "source": [
    "x= lambda a :a+10\n",
    "print(x(60))"
   ]
  },
  {
   "cell_type": "code",
   "execution_count": 37,
   "metadata": {},
   "outputs": [
    {
     "name": "stdout",
     "output_type": "stream",
     "text": [
      "True\n",
      "False\n",
      "False\n"
     ]
    }
   ],
   "source": [
    "a= True\n",
    "b=False\n",
    "print(a or b)\n",
    "print(a and b)\n",
    "print (not a)"
   ]
  },
  {
   "cell_type": "code",
   "execution_count": 39,
   "metadata": {},
   "outputs": [
    {
     "name": "stdout",
     "output_type": "stream",
     "text": [
      "license exam \n"
     ]
    }
   ],
   "source": [
    "boy_age= 20\n",
    "boy_country= \"nepal\"\n",
    "if boy_age>18 and boy_country==\"nepal\":\n",
    "    print(\"license exam \")"
   ]
  },
  {
   "cell_type": "code",
   "execution_count": 5,
   "metadata": {},
   "outputs": [
    {
     "name": "stdout",
     "output_type": "stream",
     "text": [
      "enter your first number4\n",
      "enter your second number5\n",
      "\n",
      "    Please choose your option \n",
      "        + for addition\n",
      "        - for substraction\n",
      "        * for mulltiplication\n",
      "        / for division\n",
      "        ** for power\n",
      "        % for mod\n",
      "        // for floor division\n",
      "++\n",
      "wrong choice\n"
     ]
    }
   ],
   "source": [
    "#calculator\n",
    "first_number= int(input(\"enter your first number\"))\n",
    "second_number=int(input(\"enter your second number\"))\n",
    "user_choice=input(\"\"\"\n",
    "    Please choose your option \n",
    "        + for addition\n",
    "        - for substraction\n",
    "        * for mulltiplication\n",
    "        / for division\n",
    "        ** for power\n",
    "        % for mod\n",
    "        // for floor division\n",
    "\"\"\")\n",
    "if (user_choice== \"+\"):\n",
    "    print(\"Addition=\",first_number + second_number)\n",
    "elif (user_choice==\"-\"):\n",
    "    print(\"Subtraction=\",first_number - second_number)\n",
    "elif (user_choice== \"*\"):\n",
    "    print(\"Multiplication=\",first_number * second_number)\n",
    "elif (user_choice==\"/\"):\n",
    "    print(\"Division=\",first_number / second_number)\n",
    "elif(user_choice==\"**\"):\n",
    "    print(\"Exponential=\",first_number ** second_number)\n",
    "elif(user_choice==\"%\"):\n",
    "    print(\"Mod=\",first_number % second_number)\n",
    "elif(user_choice==\"//\"):\n",
    "    print(\"Floor Division=\",first_number // second_number)\n",
    "else:\n",
    "    print(\"wrong choice\")"
   ]
  },
  {
   "cell_type": "code",
   "execution_count": null,
   "metadata": {},
   "outputs": [],
   "source": []
  }
 ],
 "metadata": {
  "kernelspec": {
   "display_name": "Python 3",
   "language": "python",
   "name": "python3"
  },
  "language_info": {
   "codemirror_mode": {
    "name": "ipython",
    "version": 3
   },
   "file_extension": ".py",
   "mimetype": "text/x-python",
   "name": "python",
   "nbconvert_exporter": "python",
   "pygments_lexer": "ipython3",
   "version": "3.7.6"
  }
 },
 "nbformat": 4,
 "nbformat_minor": 4
}
