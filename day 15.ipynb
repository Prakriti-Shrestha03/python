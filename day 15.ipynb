{
 "cells": [
  {
   "cell_type": "code",
   "execution_count": 4,
   "metadata": {},
   "outputs": [
    {
     "name": "stdout",
     "output_type": "stream",
     "text": [
      "current working directory: C:\\Users\\prakash\\Desktop\\python\\test_directory\\test_directory\n"
     ]
    }
   ],
   "source": [
    "import os \n",
    "import shutil\n",
    "\n",
    "if not os.path.isdir(\"test_directory\"):\n",
    "    os.mkdir(\"test_directory\")\n",
    "\n",
    "os.chdir(\"test_directory\")\n",
    "print(\"current working directory:\",os.getcwd())\n",
    "\n",
    "# with open(\"example.txt\",\"w\") as file:\n",
    "#     file.write(\"This is a test file.\")\n",
    "    \n",
    "# print(\"Files in directory:\",os.listdir())\n",
    "\n",
    "# shutil.copy(\"example.txt\",\"copy_example.txt\")\n",
    "\n",
    "# shutil.move(\"copy_example.txt\",\"../moved_example.txt\")\n",
    "\n",
    "# os.chdir(\"..\")\n",
    "\n",
    "# os.rmtree(\"test_directory\")\n"
   ]
  },
  {
   "cell_type": "code",
   "execution_count": 2,
   "metadata": {},
   "outputs": [
    {
     "name": "stdout",
     "output_type": "stream",
     "text": [
      "Files in directory: ['example.txt']\n"
     ]
    }
   ],
   "source": [
    "with open(\"example.txt\",\"w\") as file:\n",
    "    file.write(\"This is a test file.\")\n",
    "    \n",
    "print(\"Files in directory:\",os.listdir())"
   ]
  },
  {
   "cell_type": "code",
   "execution_count": 3,
   "metadata": {},
   "outputs": [
    {
     "data": {
      "text/plain": [
       "'../moved_example.txt'"
      ]
     },
     "execution_count": 3,
     "metadata": {},
     "output_type": "execute_result"
    }
   ],
   "source": [
    "shutil.copy(\"example.txt\",\"copy_example.txt\")\n",
    "\n",
    "shutil.move(\"copy_example.txt\",\"../moved_example.txt\")"
   ]
  },
  {
   "cell_type": "code",
   "execution_count": 6,
   "metadata": {},
   "outputs": [],
   "source": [
    "os.chdir(\"..\")"
   ]
  },
  {
   "cell_type": "code",
   "execution_count": 8,
   "metadata": {},
   "outputs": [
    {
     "ename": "FileNotFoundError",
     "evalue": "[WinError 3] The system cannot find the path specified: 'test_directory'",
     "output_type": "error",
     "traceback": [
      "\u001b[1;31m---------------------------------------------------------------------------\u001b[0m",
      "\u001b[1;31mFileNotFoundError\u001b[0m                         Traceback (most recent call last)",
      "\u001b[1;32m<ipython-input-8-84d07e4fbe7e>\u001b[0m in \u001b[0;36m<module>\u001b[1;34m\u001b[0m\n\u001b[1;32m----> 1\u001b[1;33m \u001b[0mshutil\u001b[0m\u001b[1;33m.\u001b[0m\u001b[0mrmtree\u001b[0m\u001b[1;33m(\u001b[0m\u001b[1;34m\"test_directory\"\u001b[0m\u001b[1;33m)\u001b[0m\u001b[1;33m\u001b[0m\u001b[1;33m\u001b[0m\u001b[0m\n\u001b[0m\u001b[0;32m      2\u001b[0m \u001b[0mos\u001b[0m\u001b[1;33m.\u001b[0m\u001b[0mremove\u001b[0m\u001b[1;33m(\u001b[0m\u001b[1;34m\"moved_example.txt\"\u001b[0m\u001b[1;33m)\u001b[0m\u001b[1;33m\u001b[0m\u001b[1;33m\u001b[0m\u001b[0m\n\u001b[0;32m      3\u001b[0m \u001b[0mprint\u001b[0m\u001b[1;33m(\u001b[0m\u001b[1;34m\"Cleaned complete!\"\u001b[0m\u001b[1;33m)\u001b[0m\u001b[1;33m\u001b[0m\u001b[1;33m\u001b[0m\u001b[0m\n",
      "\u001b[1;32m~\\anaconda3\\lib\\shutil.py\u001b[0m in \u001b[0;36mrmtree\u001b[1;34m(path, ignore_errors, onerror)\u001b[0m\n\u001b[0;32m    514\u001b[0m             \u001b[1;31m# can't continue even if onerror hook returns\u001b[0m\u001b[1;33m\u001b[0m\u001b[1;33m\u001b[0m\u001b[1;33m\u001b[0m\u001b[0m\n\u001b[0;32m    515\u001b[0m             \u001b[1;32mreturn\u001b[0m\u001b[1;33m\u001b[0m\u001b[1;33m\u001b[0m\u001b[0m\n\u001b[1;32m--> 516\u001b[1;33m         \u001b[1;32mreturn\u001b[0m \u001b[0m_rmtree_unsafe\u001b[0m\u001b[1;33m(\u001b[0m\u001b[0mpath\u001b[0m\u001b[1;33m,\u001b[0m \u001b[0monerror\u001b[0m\u001b[1;33m)\u001b[0m\u001b[1;33m\u001b[0m\u001b[1;33m\u001b[0m\u001b[0m\n\u001b[0m\u001b[0;32m    517\u001b[0m \u001b[1;33m\u001b[0m\u001b[0m\n\u001b[0;32m    518\u001b[0m \u001b[1;31m# Allow introspection of whether or not the hardening against symlink\u001b[0m\u001b[1;33m\u001b[0m\u001b[1;33m\u001b[0m\u001b[1;33m\u001b[0m\u001b[0m\n",
      "\u001b[1;32m~\\anaconda3\\lib\\shutil.py\u001b[0m in \u001b[0;36m_rmtree_unsafe\u001b[1;34m(path, onerror)\u001b[0m\n\u001b[0;32m    375\u001b[0m             \u001b[0mentries\u001b[0m \u001b[1;33m=\u001b[0m \u001b[0mlist\u001b[0m\u001b[1;33m(\u001b[0m\u001b[0mscandir_it\u001b[0m\u001b[1;33m)\u001b[0m\u001b[1;33m\u001b[0m\u001b[1;33m\u001b[0m\u001b[0m\n\u001b[0;32m    376\u001b[0m     \u001b[1;32mexcept\u001b[0m \u001b[0mOSError\u001b[0m\u001b[1;33m:\u001b[0m\u001b[1;33m\u001b[0m\u001b[1;33m\u001b[0m\u001b[0m\n\u001b[1;32m--> 377\u001b[1;33m         \u001b[0monerror\u001b[0m\u001b[1;33m(\u001b[0m\u001b[0mos\u001b[0m\u001b[1;33m.\u001b[0m\u001b[0mscandir\u001b[0m\u001b[1;33m,\u001b[0m \u001b[0mpath\u001b[0m\u001b[1;33m,\u001b[0m \u001b[0msys\u001b[0m\u001b[1;33m.\u001b[0m\u001b[0mexc_info\u001b[0m\u001b[1;33m(\u001b[0m\u001b[1;33m)\u001b[0m\u001b[1;33m)\u001b[0m\u001b[1;33m\u001b[0m\u001b[1;33m\u001b[0m\u001b[0m\n\u001b[0m\u001b[0;32m    378\u001b[0m         \u001b[0mentries\u001b[0m \u001b[1;33m=\u001b[0m \u001b[1;33m[\u001b[0m\u001b[1;33m]\u001b[0m\u001b[1;33m\u001b[0m\u001b[1;33m\u001b[0m\u001b[0m\n\u001b[0;32m    379\u001b[0m     \u001b[1;32mfor\u001b[0m \u001b[0mentry\u001b[0m \u001b[1;32min\u001b[0m \u001b[0mentries\u001b[0m\u001b[1;33m:\u001b[0m\u001b[1;33m\u001b[0m\u001b[1;33m\u001b[0m\u001b[0m\n",
      "\u001b[1;32m~\\anaconda3\\lib\\shutil.py\u001b[0m in \u001b[0;36m_rmtree_unsafe\u001b[1;34m(path, onerror)\u001b[0m\n\u001b[0;32m    372\u001b[0m \u001b[1;32mdef\u001b[0m \u001b[0m_rmtree_unsafe\u001b[0m\u001b[1;33m(\u001b[0m\u001b[0mpath\u001b[0m\u001b[1;33m,\u001b[0m \u001b[0monerror\u001b[0m\u001b[1;33m)\u001b[0m\u001b[1;33m:\u001b[0m\u001b[1;33m\u001b[0m\u001b[1;33m\u001b[0m\u001b[0m\n\u001b[0;32m    373\u001b[0m     \u001b[1;32mtry\u001b[0m\u001b[1;33m:\u001b[0m\u001b[1;33m\u001b[0m\u001b[1;33m\u001b[0m\u001b[0m\n\u001b[1;32m--> 374\u001b[1;33m         \u001b[1;32mwith\u001b[0m \u001b[0mos\u001b[0m\u001b[1;33m.\u001b[0m\u001b[0mscandir\u001b[0m\u001b[1;33m(\u001b[0m\u001b[0mpath\u001b[0m\u001b[1;33m)\u001b[0m \u001b[1;32mas\u001b[0m \u001b[0mscandir_it\u001b[0m\u001b[1;33m:\u001b[0m\u001b[1;33m\u001b[0m\u001b[1;33m\u001b[0m\u001b[0m\n\u001b[0m\u001b[0;32m    375\u001b[0m             \u001b[0mentries\u001b[0m \u001b[1;33m=\u001b[0m \u001b[0mlist\u001b[0m\u001b[1;33m(\u001b[0m\u001b[0mscandir_it\u001b[0m\u001b[1;33m)\u001b[0m\u001b[1;33m\u001b[0m\u001b[1;33m\u001b[0m\u001b[0m\n\u001b[0;32m    376\u001b[0m     \u001b[1;32mexcept\u001b[0m \u001b[0mOSError\u001b[0m\u001b[1;33m:\u001b[0m\u001b[1;33m\u001b[0m\u001b[1;33m\u001b[0m\u001b[0m\n",
      "\u001b[1;31mFileNotFoundError\u001b[0m: [WinError 3] The system cannot find the path specified: 'test_directory'"
     ]
    }
   ],
   "source": [
    "shutil.rmtree(\"test_directory\")\n",
    "os.remove(\"moved_example.txt\")\n",
    "print(\"Cleaned complete!\")"
   ]
  },
  {
   "cell_type": "code",
   "execution_count": 11,
   "metadata": {},
   "outputs": [
    {
     "name": "stdout",
     "output_type": "stream",
     "text": [
      " Volume in drive C is window10\n",
      " Volume Serial Number is 4A2C-7762\n",
      "\n",
      " Directory of C:\\Users\\prakash\\Desktop\\python\n",
      "\n",
      "01/20/2025  04:02 PM    <DIR>          .\n",
      "01/20/2025  04:02 PM    <DIR>          ..\n",
      "01/20/2025  03:25 PM    <DIR>          .ipynb_checkpoints\n",
      "01/19/2025  02:43 PM            12,622 assigment 3.ipynb\n",
      "01/17/2025  04:21 PM             6,157 assignment 2.ipynb\n",
      "01/19/2025  02:21 PM                32 birthday.csv\n",
      "01/13/2025  04:15 PM                77 data.csv\n",
      "01/14/2025  03:11 PM             6,002 day 1.ipynb\n",
      "01/13/2025  04:32 PM            10,173 day 13.ipynb\n",
      "01/15/2025  04:45 PM            26,219 day 14.ipynb\n",
      "01/20/2025  04:02 PM            13,870 day 15.ipynb\n",
      "12/16/2024  04:17 PM            10,226 day 2.ipynb\n",
      "12/16/2024  04:38 PM             1,318 day 3.ipynb\n",
      "12/17/2024  04:15 PM             4,506 day 4.ipynb\n",
      "12/19/2024  03:00 PM             4,481 day 5.ipynb\n",
      "12/19/2024  04:31 PM             6,027 day 6.ipynb\n",
      "01/09/2025  03:14 PM             3,506 day10.ipynb\n",
      "01/09/2025  03:14 PM             5,118 day11.ipynb\n",
      "01/09/2025  03:13 PM             5,189 day7.ipynb\n",
      "01/09/2025  03:13 PM             2,668 day8.ipynb\n",
      "01/09/2025  03:13 PM             4,716 day9.ipynb\n",
      "12/15/2024  02:50 PM             2,758 lab1.ipynb\n",
      "01/13/2025  04:10 PM            10,309 lab12.ipynb\n",
      "01/10/2025  03:53 PM             4,688 messy_sales_data.xlsx\n",
      "01/13/2025  12:34 PM             5,221 results.xlsx\n",
      "01/09/2025  05:13 PM               381 sales_data.csv\n",
      "01/09/2025  05:13 PM               374 sales_summary.csv\n",
      "01/13/2025  12:34 PM               120 student_scores.csv\n",
      "01/20/2025  03:59 PM               420 subprocess.py\n",
      "01/07/2025  03:28 PM    <DIR>          venv\n",
      "01/15/2025  11:13 AM                93 weather.csv\n",
      "01/20/2025  03:59 PM    <DIR>          __pycache__\n",
      "              27 File(s)        147,271 bytes\n",
      "               5 Dir(s)  162,787,024,896 bytes free\n",
      "\n"
     ]
    },
    {
     "ename": "FileNotFoundError",
     "evalue": "[WinError 2] The system cannot find the file specified",
     "output_type": "error",
     "traceback": [
      "\u001b[1;31m---------------------------------------------------------------------------\u001b[0m",
      "\u001b[1;31mFileNotFoundError\u001b[0m                         Traceback (most recent call last)",
      "\u001b[1;32m<ipython-input-11-fceb0d46489f>\u001b[0m in \u001b[0;36m<module>\u001b[1;34m\u001b[0m\n\u001b[0;32m      9\u001b[0m \u001b[0mprint\u001b[0m\u001b[1;33m(\u001b[0m\u001b[0mresult\u001b[0m\u001b[1;33m.\u001b[0m\u001b[0mstdout\u001b[0m\u001b[1;33m)\u001b[0m\u001b[1;33m\u001b[0m\u001b[1;33m\u001b[0m\u001b[0m\n\u001b[0;32m     10\u001b[0m \u001b[1;33m\u001b[0m\u001b[0m\n\u001b[1;32m---> 11\u001b[1;33m \u001b[0mresult\u001b[0m\u001b[1;33m=\u001b[0m\u001b[0msubprocess\u001b[0m\u001b[1;33m.\u001b[0m\u001b[0mrun\u001b[0m\u001b[1;33m(\u001b[0m\u001b[1;33m[\u001b[0m\u001b[1;34m\"fake command\"\u001b[0m\u001b[1;33m]\u001b[0m\u001b[1;33m,\u001b[0m \u001b[0mcapture_output\u001b[0m\u001b[1;33m=\u001b[0m\u001b[1;32mTrue\u001b[0m\u001b[1;33m,\u001b[0m \u001b[0mtext\u001b[0m\u001b[1;33m=\u001b[0m\u001b[1;32mTrue\u001b[0m\u001b[1;33m)\u001b[0m\u001b[1;33m\u001b[0m\u001b[1;33m\u001b[0m\u001b[0m\n\u001b[0m\u001b[0;32m     12\u001b[0m \u001b[1;32mif\u001b[0m \u001b[0mresult\u001b[0m\u001b[1;33m.\u001b[0m\u001b[0mreturncode\u001b[0m\u001b[1;33m!=\u001b[0m\u001b[1;36m0\u001b[0m\u001b[1;33m:\u001b[0m\u001b[1;33m\u001b[0m\u001b[1;33m\u001b[0m\u001b[0m\n\u001b[0;32m     13\u001b[0m     \u001b[0mprint\u001b[0m\u001b[1;33m(\u001b[0m\u001b[1;34m\"Error:\"\u001b[0m\u001b[1;33m,\u001b[0m\u001b[0mresult\u001b[0m\u001b[1;33m.\u001b[0m\u001b[0mstderr\u001b[0m\u001b[1;33m)\u001b[0m\u001b[1;33m\u001b[0m\u001b[1;33m\u001b[0m\u001b[0m\n",
      "\u001b[1;32m~\\anaconda3\\lib\\subprocess.py\u001b[0m in \u001b[0;36mrun\u001b[1;34m(input, capture_output, timeout, check, *popenargs, **kwargs)\u001b[0m\n\u001b[0;32m    486\u001b[0m         \u001b[0mkwargs\u001b[0m\u001b[1;33m[\u001b[0m\u001b[1;34m'stderr'\u001b[0m\u001b[1;33m]\u001b[0m \u001b[1;33m=\u001b[0m \u001b[0mPIPE\u001b[0m\u001b[1;33m\u001b[0m\u001b[1;33m\u001b[0m\u001b[0m\n\u001b[0;32m    487\u001b[0m \u001b[1;33m\u001b[0m\u001b[0m\n\u001b[1;32m--> 488\u001b[1;33m     \u001b[1;32mwith\u001b[0m \u001b[0mPopen\u001b[0m\u001b[1;33m(\u001b[0m\u001b[1;33m*\u001b[0m\u001b[0mpopenargs\u001b[0m\u001b[1;33m,\u001b[0m \u001b[1;33m**\u001b[0m\u001b[0mkwargs\u001b[0m\u001b[1;33m)\u001b[0m \u001b[1;32mas\u001b[0m \u001b[0mprocess\u001b[0m\u001b[1;33m:\u001b[0m\u001b[1;33m\u001b[0m\u001b[1;33m\u001b[0m\u001b[0m\n\u001b[0m\u001b[0;32m    489\u001b[0m         \u001b[1;32mtry\u001b[0m\u001b[1;33m:\u001b[0m\u001b[1;33m\u001b[0m\u001b[1;33m\u001b[0m\u001b[0m\n\u001b[0;32m    490\u001b[0m             \u001b[0mstdout\u001b[0m\u001b[1;33m,\u001b[0m \u001b[0mstderr\u001b[0m \u001b[1;33m=\u001b[0m \u001b[0mprocess\u001b[0m\u001b[1;33m.\u001b[0m\u001b[0mcommunicate\u001b[0m\u001b[1;33m(\u001b[0m\u001b[0minput\u001b[0m\u001b[1;33m,\u001b[0m \u001b[0mtimeout\u001b[0m\u001b[1;33m=\u001b[0m\u001b[0mtimeout\u001b[0m\u001b[1;33m)\u001b[0m\u001b[1;33m\u001b[0m\u001b[1;33m\u001b[0m\u001b[0m\n",
      "\u001b[1;32m~\\anaconda3\\lib\\subprocess.py\u001b[0m in \u001b[0;36m__init__\u001b[1;34m(self, args, bufsize, executable, stdin, stdout, stderr, preexec_fn, close_fds, shell, cwd, env, universal_newlines, startupinfo, creationflags, restore_signals, start_new_session, pass_fds, encoding, errors, text)\u001b[0m\n\u001b[0;32m    798\u001b[0m                                 \u001b[0mc2pread\u001b[0m\u001b[1;33m,\u001b[0m \u001b[0mc2pwrite\u001b[0m\u001b[1;33m,\u001b[0m\u001b[1;33m\u001b[0m\u001b[1;33m\u001b[0m\u001b[0m\n\u001b[0;32m    799\u001b[0m                                 \u001b[0merrread\u001b[0m\u001b[1;33m,\u001b[0m \u001b[0merrwrite\u001b[0m\u001b[1;33m,\u001b[0m\u001b[1;33m\u001b[0m\u001b[1;33m\u001b[0m\u001b[0m\n\u001b[1;32m--> 800\u001b[1;33m                                 restore_signals, start_new_session)\n\u001b[0m\u001b[0;32m    801\u001b[0m         \u001b[1;32mexcept\u001b[0m\u001b[1;33m:\u001b[0m\u001b[1;33m\u001b[0m\u001b[1;33m\u001b[0m\u001b[0m\n\u001b[0;32m    802\u001b[0m             \u001b[1;31m# Cleanup if the child failed starting.\u001b[0m\u001b[1;33m\u001b[0m\u001b[1;33m\u001b[0m\u001b[1;33m\u001b[0m\u001b[0m\n",
      "\u001b[1;32m~\\anaconda3\\lib\\subprocess.py\u001b[0m in \u001b[0;36m_execute_child\u001b[1;34m(self, args, executable, preexec_fn, close_fds, pass_fds, cwd, env, startupinfo, creationflags, shell, p2cread, p2cwrite, c2pread, c2pwrite, errread, errwrite, unused_restore_signals, unused_start_new_session)\u001b[0m\n\u001b[0;32m   1205\u001b[0m                                          \u001b[0menv\u001b[0m\u001b[1;33m,\u001b[0m\u001b[1;33m\u001b[0m\u001b[1;33m\u001b[0m\u001b[0m\n\u001b[0;32m   1206\u001b[0m                                          \u001b[0mos\u001b[0m\u001b[1;33m.\u001b[0m\u001b[0mfspath\u001b[0m\u001b[1;33m(\u001b[0m\u001b[0mcwd\u001b[0m\u001b[1;33m)\u001b[0m \u001b[1;32mif\u001b[0m \u001b[0mcwd\u001b[0m \u001b[1;32mis\u001b[0m \u001b[1;32mnot\u001b[0m \u001b[1;32mNone\u001b[0m \u001b[1;32melse\u001b[0m \u001b[1;32mNone\u001b[0m\u001b[1;33m,\u001b[0m\u001b[1;33m\u001b[0m\u001b[1;33m\u001b[0m\u001b[0m\n\u001b[1;32m-> 1207\u001b[1;33m                                          startupinfo)\n\u001b[0m\u001b[0;32m   1208\u001b[0m             \u001b[1;32mfinally\u001b[0m\u001b[1;33m:\u001b[0m\u001b[1;33m\u001b[0m\u001b[1;33m\u001b[0m\u001b[0m\n\u001b[0;32m   1209\u001b[0m                 \u001b[1;31m# Child is launched. Close the parent's copy of those pipe\u001b[0m\u001b[1;33m\u001b[0m\u001b[1;33m\u001b[0m\u001b[1;33m\u001b[0m\u001b[0m\n",
      "\u001b[1;31mFileNotFoundError\u001b[0m: [WinError 2] The system cannot find the file specified"
     ]
    }
   ],
   "source": [
    "import subprocess\n",
    "import os\n",
    "\n",
    "# result=subprocess.run([\"echo\",\"Hello, World\"], capture_output=True, text=True)\n",
    "# print(\"command Output:\",result.stdout)\n",
    "\n",
    "command=[\"ls\"] if os.name!= \"nt\" else[\"dir\"]\n",
    "result=subprocess.run(command,capture_output=True, text=True, shell=True)\n",
    "print(result.stdout)\n",
    "\n",
    "result=subprocess.run([\"fake command\"], capture_output=True, text=True)\n",
    "if result.returncode!=0:\n",
    "    print(\"Error:\",result.stderr)"
   ]
  },
  {
   "cell_type": "code",
   "execution_count": 15,
   "metadata": {},
   "outputs": [
    {
     "name": "stdout",
     "output_type": "stream",
     "text": [
      "Moved file1.text to ./example_directory\\text/\n",
      "Moved file2.jpg to ./example_directory\\jpg/\n",
      "Moved file3.mp3 to ./example_directory\\mp3/\n",
      "\n",
      "In ./example_directory:\n",
      " Directory: jpg\n",
      " Directory: mp3\n",
      " Directory: text\n",
      "\n",
      "In ./example_directory\\jpg:\n",
      "File: file2.jpg\n",
      "\n",
      "In ./example_directory\\mp3:\n",
      "File: file3.mp3\n",
      "\n",
      "In ./example_directory\\text:\n",
      "File: file1.text\n"
     ]
    }
   ],
   "source": [
    "import os\n",
    "import shutil\n",
    "\n",
    "directory=\"./example_directory\"\n",
    "\n",
    "os.makedirs(directory,exist_ok=True)\n",
    "with open(os.path.join(directory,\"file1.text\"),\"w\") as f:\n",
    "    f.write(\"Text File Created\")\n",
    "with open(os.path.join(directory,\"file2.jpg\"),\"w\") as f:\n",
    "    f.write(\"Image File Created\")\n",
    "with open(os.path.join(directory,\"file3.mp3\"),\"w\") as f:\n",
    "    f.write(\"Audio File Created\")\n",
    "\n",
    "def organize_files_by_type(directory):\n",
    "    for file_name in os.listdir(directory):\n",
    "        file_path=os.path.join(directory,file_name)\n",
    "        if os.path.isdir(file_path):\n",
    "            continue\n",
    "            \n",
    "        file_extension =file_name.split(\".\")[-1]\n",
    "        type_folder=os.path.join(directory,file_extension)\n",
    "        os.makedirs(type_folder,exist_ok=True)\n",
    "        shutil.move(file_path,os.path.join(type_folder,file_name))\n",
    "        print(f\"Moved {file_name} to {type_folder}/\")\n",
    "        \n",
    "organize_files_by_type(directory)\n",
    "\n",
    "for root,dirs,files in os.walk(directory):\n",
    "    print(f\"\\nIn {root}:\")\n",
    "    for dir_name in dirs:\n",
    "        print(f\" Directory: {dir_name}\")\n",
    "    for file_name in files:\n",
    "        print(f\"File: {file_name}\")"
   ]
  },
  {
   "cell_type": "code",
   "execution_count": 30,
   "metadata": {},
   "outputs": [
    {
     "name": "stdout",
     "output_type": "stream",
     "text": [
      "Directory Created.\n",
      "File Created.\n",
      "Zip Created.\n"
     ]
    }
   ],
   "source": [
    "import os\n",
    "import shutil\n",
    "import datetime\n",
    "\n",
    "directory=\"test_directory\"\n",
    "if not os.path.isdir(directory):\n",
    "    os.mkdir(directory)\n",
    "print(\"Directory Created.\")\n",
    "\n",
    "os.chdir(directory)\n",
    "\n",
    "with open(\"file1.txt\",\"w\") as file:\n",
    "    file.write(\"Testing.\")\n",
    "print(\"File Created.\")\n",
    "    \n",
    "os.chdir(\"..\")\n",
    "\n",
    "x=str(datetime.datetime.now())\n",
    "shutil.make_archive(x[0:11],\"zip\",directory)\n",
    "print(\"Zip Created.\")"
   ]
  },
  {
   "cell_type": "code",
   "execution_count": 32,
   "metadata": {},
   "outputs": [
    {
     "name": "stdout",
     "output_type": "stream",
     "text": [
      "Process List saved to 'Process_list.txt'\n"
     ]
    }
   ],
   "source": [
    "import subprocess\n",
    "import shutil\n",
    "\n",
    "def list_running_processes(output_file):\n",
    "    try:\n",
    "        command=[\"tasklist\"] if os.name==\"nt\" else [\"ps\", \"aux\"]\n",
    "        result=subprocess.run(command,capture_output=True, text=True)\n",
    "\n",
    "        with open(output_file,\"w\") as file:\n",
    "            file.write(result.stdout)\n",
    "        print(f\"Process List saved to '{output_file}'\")\n",
    "    except Exception as e:\n",
    "        print(f\"Error: {e}\")\n",
    "\n",
    "list_running_processes(\"Process_list.txt\")"
   ]
  },
  {
   "cell_type": "code",
   "execution_count": 52,
   "metadata": {},
   "outputs": [
    {
     "name": "stdout",
     "output_type": "stream",
     "text": [
      "Directory Created.\n",
      "old_file.zip created.\n",
      "Do you want to delete your old files?yes\n",
      "Zip deleted.\n"
     ]
    }
   ],
   "source": [
    "import os\n",
    "import shutil\n",
    "import time\n",
    "\n",
    "directory=\"test_directory\"\n",
    "if not os.path.isdir(\"Old_files\"):\n",
    "    os.mkdir(\"Old_files\")\n",
    "print(\"Directory Created.\")\n",
    "def archive_files():\n",
    "    for file_name in os.listdir(directory):\n",
    "        file_path=os.path.join(directory,file_name)\n",
    "        print(f\"File stats:{os.stat(file_path)}\")\n",
    "        x=time.ctime(os.path.getmtime(file_path))\n",
    "        x=x.split(\" \")\n",
    "        if int(x[2])<21:\n",
    "            shutil.move(file_path,f\"Old_files/{file_name}\")\n",
    "            \n",
    "    shutil.make_archive(\"old_file\",\"zip\",\"Old_files\")\n",
    "    print(\"old_file.zip created.\")\n",
    "            \n",
    "    y=input(\"Do you want to delete your old files?\")\n",
    "    if y.lower()==\"yes\":\n",
    "        os.remove(\"old_file.zip\")\n",
    "        print(\"Zip deleted.\")\n",
    "\n",
    "archive_files()"
   ]
  },
  {
   "cell_type": "code",
   "execution_count": 76,
   "metadata": {},
   "outputs": [
    {
     "name": "stdout",
     "output_type": "stream",
     "text": [
      "Total Memory=265.76073837280273 GB\tUsed Memory=114.1712760925293 GB\tFree Memory=151.58946228027344 GB\n",
      "System Infromation:Windows\n",
      "Version=10.0.19041\n",
      "Processor=Intel64 Family 6 Model 142 Stepping 10, GenuineIntel\n",
      "File Created.\n"
     ]
    }
   ],
   "source": [
    "import os\n",
    "import platform\n",
    "\n",
    "output_file=\"System_data.txt\"\n",
    "directory= r\"C:\\Users\\prakash\\Desktop\\python\"\n",
    "disk_u=shutil.disk_usage(directory)\n",
    "total=disk_u.total/1024**3\n",
    "used=disk_u.used/1024**3\n",
    "free=disk_u.free/1024**3\n",
    "system_info=platform.uname()\n",
    "system=system_info.system\n",
    "version=system_info.version\n",
    "processor=system_info.processor\n",
    "print(f\"Total Memory={total} GB\\tUsed Memory={used} GB\\tFree Memory={free} GB\\nSystem Infromation:{system}\\nVersion={version}\\nProcessor={processor}\")\n",
    "with open(output_file,\"w\")as file:\n",
    "    file.write(f\"Total Memory={total} GB\\tUsed Memory={used} GB\\tFree Memory={free} GB\\nSystem Infromation:{system}\\nVersion={version}\\nProcessor={processor}\")\n",
    "    print(\"File Created.\")"
   ]
  },
  {
   "cell_type": "code",
   "execution_count": 71,
   "metadata": {},
   "outputs": [
    {
     "name": "stdout",
     "output_type": "stream",
     "text": [
      " Volume in drive C is window10\n",
      " Volume Serial Number is 4A2C-7762\n",
      "\n",
      " Directory of C:\\Users\\prakash\\Desktop\\python\n",
      "\n",
      "01/21/2025  04:36 PM    <DIR>          .\n",
      "01/21/2025  04:36 PM    <DIR>          ..\n",
      "01/21/2025  03:08 PM    <DIR>          .ipynb_checkpoints\n",
      "01/20/2025  04:45 PM               126 2025-01-20.zip\n",
      "01/19/2025  02:43 PM            12,622 assigment 3.ipynb\n",
      "01/17/2025  04:21 PM             6,157 assignment 2.ipynb\n",
      "01/19/2025  02:21 PM                32 birthday.csv\n",
      "01/13/2025  04:15 PM                77 data.csv\n",
      "01/14/2025  03:11 PM             6,002 day 1.ipynb\n",
      "01/13/2025  04:32 PM            10,173 day 13.ipynb\n",
      "01/15/2025  04:45 PM            26,219 day 14.ipynb\n",
      "01/21/2025  04:36 PM            23,165 day 15.ipynb\n",
      "01/21/2025  03:10 PM               288 day 16.ipynb\n",
      "12/16/2024  04:17 PM            10,226 day 2.ipynb\n",
      "12/16/2024  04:38 PM             1,318 day 3.ipynb\n",
      "12/17/2024  04:15 PM             4,506 day 4.ipynb\n",
      "12/19/2024  03:00 PM             4,481 day 5.ipynb\n",
      "12/19/2024  04:31 PM             6,027 day 6.ipynb\n",
      "01/09/2025  03:14 PM             3,506 day10.ipynb\n",
      "01/09/2025  03:14 PM             5,118 day11.ipynb\n",
      "01/09/2025  03:13 PM             5,189 day7.ipynb\n",
      "01/09/2025  03:13 PM             2,668 day8.ipynb\n",
      "01/09/2025  03:13 PM             4,716 day9.ipynb\n",
      "01/20/2025  04:25 PM    <DIR>          example_directory\n",
      "12/15/2024  02:50 PM             2,758 lab1.ipynb\n",
      "01/13/2025  04:10 PM            10,309 lab12.ipynb\n",
      "01/10/2025  03:53 PM             4,688 messy_sales_data.xlsx\n",
      "01/21/2025  04:01 PM    <DIR>          Old_files\n",
      "01/21/2025  03:33 PM            17,474 Process_list.txt\n",
      "01/13/2025  12:34 PM             5,221 results.xlsx\n",
      "01/09/2025  05:13 PM               381 sales_data.csv\n",
      "01/09/2025  05:13 PM               374 sales_summary.csv\n",
      "01/13/2025  12:34 PM               120 student_scores.csv\n",
      "01/20/2025  03:59 PM               420 subprocess.py\n",
      "01/21/2025  04:31 PM               180 System_data.txt\n",
      "01/21/2025  04:01 PM    <DIR>          test_directory\n",
      "01/07/2025  03:28 PM    <DIR>          venv\n",
      "01/15/2025  11:13 AM                93 weather.csv\n",
      "01/21/2025  03:08 PM    <DIR>          __pycache__\n",
      "              31 File(s)        174,634 bytes\n",
      "               8 Dir(s)  162,770,509,824 bytes free\n",
      "\n"
     ]
    }
   ],
   "source": [
    "command=[\"systeminfo\"] if os.name!= \"nt\" else[\"dir\"]\n",
    "result=subprocess.run(command,capture_output=True, text=True, shell=True)\n",
    "print(result.stdout)"
   ]
  }
 ],
 "metadata": {
  "kernelspec": {
   "display_name": "Python 3",
   "language": "python",
   "name": "python3"
  },
  "language_info": {
   "codemirror_mode": {
    "name": "ipython",
    "version": 3
   },
   "file_extension": ".py",
   "mimetype": "text/x-python",
   "name": "python",
   "nbconvert_exporter": "python",
   "pygments_lexer": "ipython3",
   "version": "3.7.6"
  }
 },
 "nbformat": 4,
 "nbformat_minor": 4
}
