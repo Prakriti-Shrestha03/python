{
 "cells": [
  {
   "cell_type": "code",
   "execution_count": 1,
   "metadata": {},
   "outputs": [
    {
     "name": "stdout",
     "output_type": "stream",
     "text": [
      "the youngest is linux\n"
     ]
    }
   ],
   "source": [
    "def my_function(*child):\n",
    "    print(f\"the youngest is {child[2]}\")\n",
    "    \n",
    "my_function(\"emil\",\"tobias\",\"linux\")"
   ]
  },
  {
   "cell_type": "code",
   "execution_count": 3,
   "metadata": {},
   "outputs": [
    {
     "name": "stdout",
     "output_type": "stream",
     "text": [
      "the youngest is tobias\n"
     ]
    }
   ],
   "source": [
    "def my_function(child1,child2,child3):\n",
    "    print(f\"the youngest is {child2}\")\n",
    "    \n",
    "my_function(child1=\"emil\",child2=\"tobias\",child3=\"linux\")"
   ]
  },
  {
   "cell_type": "code",
   "execution_count": 11,
   "metadata": {},
   "outputs": [
    {
     "name": "stdout",
     "output_type": "stream",
     "text": [
      "the last name is Shrestha\n"
     ]
    }
   ],
   "source": [
    "def my_function(**child):\n",
    "    print(\"the last name is \"+child[\"lname\"])\n",
    "    \n",
    "my_function(fname=\"Ram \",lname=\"Shrestha\")"
   ]
  },
  {
   "cell_type": "code",
   "execution_count": 13,
   "metadata": {},
   "outputs": [
    {
     "name": "stdout",
     "output_type": "stream",
     "text": [
      "the sum =15\n"
     ]
    }
   ],
   "source": [
    "number_list=[1,2,3,4,5,6,7]\n",
    "def sum(*arg):\n",
    "    result=0\n",
    "    for number in arg:\n",
    "        result+=number\n",
    "    return result\n",
    "print(f\"the sum ={sum(1,2,3,4,5)}\")"
   ]
  },
  {
   "cell_type": "code",
   "execution_count": 16,
   "metadata": {},
   "outputs": [
    {
     "name": "stdout",
     "output_type": "stream",
     "text": [
      "the product = 120\n"
     ]
    }
   ],
   "source": [
    "def mul(*arg):\n",
    "    result=1\n",
    "    for number in arg:\n",
    "        result*=number\n",
    "    return result\n",
    "\n",
    "print(f\"the product = {mul(1,2,3,4,5)}\")"
   ]
  },
  {
   "cell_type": "code",
   "execution_count": 20,
   "metadata": {},
   "outputs": [
    {
     "name": "stdout",
     "output_type": "stream",
     "text": [
      "the answer = 0.008333333333333333\n"
     ]
    }
   ],
   "source": [
    "def div(*arg):\n",
    "    result=1.0\n",
    "    for number in arg:\n",
    "        result/=number\n",
    "    return result\n",
    "\n",
    "print(f\"the answer = {div(1,2,3,4,5)}\")"
   ]
  },
  {
   "cell_type": "code",
   "execution_count": 21,
   "metadata": {},
   "outputs": [
    {
     "name": "stdout",
     "output_type": "stream",
     "text": [
      "Hi, Prakriti\n",
      "Hi, Kyungsoo\n"
     ]
    }
   ],
   "source": [
    "def print_name(name=\"Prakriti\"):\n",
    "    print(f\"Hi, {name}\")\n",
    "    \n",
    "print_name()\n",
    "print_name(\"Kyungsoo\")"
   ]
  },
  {
   "cell_type": "code",
   "execution_count": 31,
   "metadata": {},
   "outputs": [
    {
     "name": "stdout",
     "output_type": "stream",
     "text": [
      "{'fname': 'Prakriti', 'lname': 'Shrestha'}\n",
      "My full name is Prakriti Shrestha\n"
     ]
    }
   ],
   "source": [
    "def print_full_name(**kwargs):\n",
    "    print(kwargs)\n",
    "    print(f\"My full name is {kwargs['fname']} {kwargs['lname']}\")\n",
    "print_full_name(fname=\"Prakriti\",lname=\"Shrestha\")"
   ]
  },
  {
   "cell_type": "code",
   "execution_count": 1,
   "metadata": {},
   "outputs": [
    {
     "name": "stdout",
     "output_type": "stream",
     "text": [
      "Name=Prakriti Shrestha and total marks=150\n"
     ]
    }
   ],
   "source": [
    "def print_result(*args,**kwargs):\n",
    "    result=0\n",
    "    for number in args:\n",
    "        result+=number\n",
    "    print(f\"Name={kwargs['fname']} {kwargs['lname']} and total marks={result}\")\n",
    "print_result(10,20,30,40,50,fname=\"Prakriti\",lname=\"Shrestha\")"
   ]
  },
  {
   "cell_type": "code",
   "execution_count": 10,
   "metadata": {},
   "outputs": [
    {
     "name": "stdout",
     "output_type": "stream",
     "text": [
      "Enter your namePrakriti\n",
      "enter your number8374987492\n",
      "do you want to keep adding more number(y/n)y\n",
      "Enter your namekyungsoo\n",
      "enter your number87329847982\n",
      "do you want to keep adding more number(y/n)y\n",
      "Enter your namefushduiah\n",
      "enter your number73982478237\n",
      "do you want to keep adding more number(y/n)kyungsoo\n",
      "Enter your namehdhsh\n",
      "enter your number8478237\n",
      "do you want to keep adding more number(y/n)n\n",
      "enter the name kyungsoo\n",
      "the number = 87329847982\n"
     ]
    }
   ],
   "source": [
    "phone_book={}\n",
    "\n",
    "def make_phone_book():\n",
    "    while True:\n",
    "        x=input(\"Enter your name\")\n",
    "        y=input(\"enter your number\")\n",
    "        phone_book.update({x.lower():y})\n",
    "        user_choice=input(\"do you want to keep adding more number(y/n)\")\n",
    "        if(user_choice.lower()==\"n\" or user_choice.lower()==\"no\"):\n",
    "            break\n",
    "            \n",
    "def find_number(phone_book,name):\n",
    "        print(f\"the number = {phone_book[name.lower()]}\")\n",
    "            \n",
    "make_phone_book()\n",
    "find_number(phone_book,input(\"enter the name \"))    "
   ]
  },
  {
   "cell_type": "code",
   "execution_count": null,
   "metadata": {},
   "outputs": [],
   "source": []
  }
 ],
 "metadata": {
  "kernelspec": {
   "display_name": "Python 3",
   "language": "python",
   "name": "python3"
  },
  "language_info": {
   "codemirror_mode": {
    "name": "ipython",
    "version": 3
   },
   "file_extension": ".py",
   "mimetype": "text/x-python",
   "name": "python",
   "nbconvert_exporter": "python",
   "pygments_lexer": "ipython3",
   "version": "3.7.6"
  }
 },
 "nbformat": 4,
 "nbformat_minor": 4
}
